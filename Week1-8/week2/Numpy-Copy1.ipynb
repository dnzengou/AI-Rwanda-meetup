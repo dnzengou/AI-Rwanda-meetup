{
 "cells": [
  {
   "cell_type": "markdown",
   "metadata": {},
   "source": [
    "# Numpy"
   ]
  },
  {
   "cell_type": "markdown",
   "metadata": {},
   "source": [
    "**Prepared By:**\n",
    "- Ashish Sharma\n",
    "- Email: accssharma@gmail.com\n",
    "- AI Developers, Boise\n",
    "- AI Saturdays - Week 2\n",
    "\n",
    "## References:\n",
    "- [1] https://webcourses.ucf.edu/courses/1249560/pages/python-lists-vs-numpy-arrays-what-is-the-difference\n",
    "\n",
    "## What is Numpy?\n",
    "\n",
    "- efficient library for scientific computing in Python\n",
    "- \"NumPy is a library for the Python programming language, adding support for large, multi-dimensional arrays and matrices, along with a large collection of high-level mathematical functions to operate on these arrays\"\n",
    "\n",
    "\n",
    "**About Cython**\n",
    "\n",
    "Cython is an optimising static compiler for both the Python programming language and the extended Cython programming language (based on Pyrex). It makes writing C extensions for Python as easy as Python itself.\n",
    "\n",
    "Cython gives you the combined power of Python and C to let you:\n",
    "\n",
    "- write Python code that calls back and forth from and to C or C++ code natively at any point.\n",
    "- easily tune readable Python code into plain C performance by adding static type declarations.\n",
    "- use combined source code level debugging to find bugs in your Python, Cython and C code.\n",
    "- interact efficiently with large data sets, e.g. using multi-dimensional NumPy arrays.\n",
    "- quickly build your applications within the large, mature and widely used CPython ecosystem.\n",
    "- integrate natively with existing code and data from legacy, low-level or high-performance libraries and applications.\n",
    "\n",
    "The Cython language is a superset of the Python language that additionally supports calling C functions and declaring C types on variables and class attributes. This allows the compiler to generate very efficient C code from Cython code. The C code is generated once and then compiles with all major C/C++ compilers in CPython 2.6, 2.7 (2.4+ with Cython 0.20.x) as well as 3.3 and all later versions.\n",
    "\n",
    "Cython programming language works best in wrapping external C libraries, embedding CPython into existing applications, and for fast C modules that speed up the execution of Python code.\n",
    "\n",
    "## Numpy\n",
    "\n",
    "- NumPy is the fundamental package for scientific computing in Python. \n",
    "- It is a Python library that provides a multidimensional array object, various derived objects (such as masked arrays and matrices), and an assortment of routines for fast operations on arrays, including mathematical, logical, shape manipulation, sorting, selecting, I/O, discrete Fourier transforms, basic linear algebra, basic statistical operations, random simulation and much more.\n",
    "\n",
    "At the core of the NumPy package, is the **ndarray** object. This encapsulates n-dimensional arrays of homogeneous data types, with many operations being performed in compiled code for performance. There are several important differences between NumPy arrays and the standard Python sequences:\n",
    "\n",
    "- NumPy arrays have a fixed size at creation, unlike Python lists (which can grow dynamically). Changing the size of an ndarray will create a new array and delete the original.\n",
    "- The elements in a NumPy array are all required to be of the same data type, and thus will be the same size in memory. The exception: one can have arrays of (Python, including NumPy) objects, thereby allowing for arrays of different sized elements.\n",
    "- NumPy arrays facilitate advanced mathematical and other types of operations on large numbers of data. Typically, such operations are executed more efficiently and with less code than is possible using Python’s built-in sequences.\n",
    "- A growing plethora of scientific and mathematical Python-based packages are using NumPy arrays; though these typically support Python-sequence input, they convert such input to NumPy arrays prior to processing, and they often output NumPy arrays. In other words, in order to efficiently use much (perhaps even most) of today’s scientific/mathematical Python-based software, just knowing how to use Python’s built-in sequence types is insufficient - one also needs to know how to use NumPy arrays."
   ]
  },
  {
   "cell_type": "markdown",
   "metadata": {},
   "source": [
    "## ndarray object\n",
    "- an array object that represents arrays in numpy which are:\n",
    "    - High Performance MULTI-DIMENSIONAL array object\n",
    "    - HOMOGENEOUS\n",
    "    - FIXED-SIZE items\n",
    "    \n",
    "  \n",
    "Numpy Array:\n",
    "- grid of values, \n",
    "- all values have same type\n",
    "- indexed by a tuple of nonnegative integers\n",
    "- number of of dimensions is the rank of the array\n",
    "- the shape of the array is a tuple of integers giving the size of the array along each dimension\n",
    "\n",
    "\n",
    "List:\n",
    "- python equivalent of an array (can also be used as stack, queue, etc.)\n",
    "- size changes dynamically (is RESIZABLE)\n",
    "- can contain elements of different types ( NOT necessarily HOMOGENEOUS)\n",
    "\n",
    "Question: What's the real difference?\n",
    "Answer: **Performance**\n",
    "\n",
    "- Numpy data structures take up less space.\n",
    "- Faster in computations\n",
    "- Have optimized functions for operations like linear algebra, \n",
    "\n",
    "Discussions:\n",
    "- [How much of Numpy is in C?](https://stackoverflow.com/questions/1825857/how-much-of-numpy-and-scipy-is-in-c)\n",
    "- "
   ]
  },
  {
   "cell_type": "markdown",
   "metadata": {},
   "source": [
    "### MULTI-DIMENSIONAL"
   ]
  },
  {
   "cell_type": "code",
   "execution_count": 18,
   "metadata": {},
   "outputs": [],
   "source": [
    "from random import random, sample\n",
    "import numpy as np"
   ]
  },
  {
   "cell_type": "markdown",
   "metadata": {},
   "source": [
    "Lists in python can also be multi-dimensional"
   ]
  },
  {
   "cell_type": "code",
   "execution_count": 90,
   "metadata": {},
   "outputs": [],
   "source": [
    "# def create_random_array(n):\n",
    "#     return sample(range(n), n)\n",
    "\n",
    "# def create_nd_matrix(dim_n):\n",
    "#     out = create_random_array(dim_n)\n",
    "#     for i in range(dim_n-1):\n",
    "#         out = [out, out]   \n",
    "#     return out\n",
    "\n",
    "#A = create_nd_matrix(5)"
   ]
  },
  {
   "cell_type": "code",
   "execution_count": 172,
   "metadata": {},
   "outputs": [],
   "source": [
    "shape_arg = (20,20000,200,2)\n",
    "num_type = np.int8\n",
    "\n",
    "def create_random_array(n):\n",
    "    # return sample(range(n), n)\n",
    "    return [num_type(0) for i in range(n)]\n",
    "\n",
    "def create_nd_matrix(shape=(2,2)):\n",
    "    # print (\"Generating a matrix of shape: {} and dimension: {} \".format(shape, len(shape)))\n",
    "    rev = reversed(shape)\n",
    "    out = create_random_array(rev.__next__())\n",
    "    for j in range(len(shape)-1):\n",
    "        out = [out for i in range(rev.__next__())]\n",
    "    assert len(out) == shape[0]\n",
    "    assert len(out[0]) == shape[1]\n",
    "    return out"
   ]
  },
  {
   "cell_type": "code",
   "execution_count": 173,
   "metadata": {},
   "outputs": [
    {
     "name": "stdout",
     "output_type": "stream",
     "text": [
      "Itemsize: 1 bytes\n",
      "Total array size: 160000000 bytes\n"
     ]
    }
   ],
   "source": [
    "from functools import reduce\n",
    "import sys\n",
    "\n",
    "itemsize = num_type().itemsize\n",
    "print (\"Itemsize:\", itemsize, \"bytes\")\n",
    "\n",
    "total_array_size = reduce(lambda x, y: x*y, shape_arg)*itemsize\n",
    "print (\"Total array size:\", total_array_size, \"bytes\")"
   ]
  },
  {
   "cell_type": "code",
   "execution_count": 174,
   "metadata": {
    "scrolled": true
   },
   "outputs": [
    {
     "name": "stdout",
     "output_type": "stream",
     "text": [
      "CPU times: user 0 ns, sys: 0 ns, total: 0 ns\n",
      "Wall time: 6.68 µs\n"
     ]
    }
   ],
   "source": [
    "%time\n",
    "A_py = create_nd_matrix(shape=shape_arg)\n",
    "# list array of references \n",
    "# when things are added, array of references is resized, but the data must not\n",
    "# be necessarily contiguously stored"
   ]
  },
  {
   "cell_type": "code",
   "execution_count": 179,
   "metadata": {},
   "outputs": [
    {
     "data": {
      "text/plain": [
       "264"
      ]
     },
     "execution_count": 179,
     "metadata": {},
     "output_type": "execute_result"
    }
   ],
   "source": [
    "sys.getsizeof(A_py)"
   ]
  },
  {
   "cell_type": "code",
   "execution_count": 180,
   "metadata": {},
   "outputs": [
    {
     "data": {
      "text/plain": [
       "0"
      ]
     },
     "execution_count": 180,
     "metadata": {},
     "output_type": "execute_result"
    }
   ],
   "source": [
    "A_py[0][113][199][1]"
   ]
  },
  {
   "cell_type": "code",
   "execution_count": 176,
   "metadata": {},
   "outputs": [
    {
     "name": "stdout",
     "output_type": "stream",
     "text": [
      "CPU times: user 0 ns, sys: 0 ns, total: 0 ns\n",
      "Wall time: 4.05 µs\n"
     ]
    }
   ],
   "source": [
    "%time \n",
    "A_np = np.zeros(shape_arg, num_type)\n",
    "# An instance of class ndarray consists of a contiguous one-dimensional segment of computer memory"
   ]
  },
  {
   "cell_type": "code",
   "execution_count": 177,
   "metadata": {},
   "outputs": [
    {
     "name": "stdout",
     "output_type": "stream",
     "text": [
      "Total bytes consumed by numpy array: 160000000\n"
     ]
    },
    {
     "data": {
      "text/plain": [
       "160000144"
      ]
     },
     "execution_count": 177,
     "metadata": {},
     "output_type": "execute_result"
    }
   ],
   "source": [
    "print (\"Total bytes consumed by numpy array:\", A_np.nbytes)\n",
    "sys.getsizeof(A_np) # whole ndarray object, including attributes and methods"
   ]
  },
  {
   "cell_type": "code",
   "execution_count": 33,
   "metadata": {},
   "outputs": [
    {
     "data": {
      "text/plain": [
       "numpy.float64"
      ]
     },
     "execution_count": 33,
     "metadata": {},
     "output_type": "execute_result"
    }
   ],
   "source": [
    "type(A_np[0][1][2])"
   ]
  },
  {
   "cell_type": "code",
   "execution_count": 105,
   "metadata": {},
   "outputs": [
    {
     "data": {
      "text/plain": [
       "4"
      ]
     },
     "execution_count": 105,
     "metadata": {},
     "output_type": "execute_result"
    }
   ],
   "source": []
  },
  {
   "cell_type": "code",
   "execution_count": null,
   "metadata": {},
   "outputs": [],
   "source": []
  },
  {
   "cell_type": "code",
   "execution_count": null,
   "metadata": {},
   "outputs": [],
   "source": []
  },
  {
   "cell_type": "code",
   "execution_count": null,
   "metadata": {},
   "outputs": [],
   "source": [
    "import numpy as np"
   ]
  },
  {
   "cell_type": "code",
   "execution_count": 104,
   "metadata": {},
   "outputs": [
    {
     "data": {
      "text/plain": [
       "sys.float_info(max=1.7976931348623157e+308, max_exp=1024, max_10_exp=308, min=2.2250738585072014e-308, min_exp=-1021, min_10_exp=-307, dig=15, mant_dig=53, epsilon=2.220446049250313e-16, radix=2, rounds=1)"
      ]
     },
     "execution_count": 104,
     "metadata": {},
     "output_type": "execute_result"
    }
   ],
   "source": []
  },
  {
   "cell_type": "code",
   "execution_count": null,
   "metadata": {},
   "outputs": [],
   "source": [
    "# Numpy inte"
   ]
  },
  {
   "cell_type": "code",
   "execution_count": null,
   "metadata": {},
   "outputs": [],
   "source": []
  },
  {
   "cell_type": "code",
   "execution_count": null,
   "metadata": {},
   "outputs": [],
   "source": []
  }
 ],
 "metadata": {
  "kernelspec": {
   "display_name": "Python 3",
   "language": "python",
   "name": "python3"
  },
  "language_info": {
   "codemirror_mode": {
    "name": "ipython",
    "version": 3
   },
   "file_extension": ".py",
   "mimetype": "text/x-python",
   "name": "python",
   "nbconvert_exporter": "python",
   "pygments_lexer": "ipython3",
   "version": "3.6.5"
  }
 },
 "nbformat": 4,
 "nbformat_minor": 2
}
