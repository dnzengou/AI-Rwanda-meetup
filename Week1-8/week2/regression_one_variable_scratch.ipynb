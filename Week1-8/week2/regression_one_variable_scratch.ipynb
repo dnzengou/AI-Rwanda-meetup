{
"cells": [
 {
  "cell_type": "markdown",
  "metadata": {},
  "source": [
   "# Linear Regression of one variable implementation from scratch"
  ]
 },
 {
  "cell_type": "markdown",
  "metadata": {},
  "source": [
   "Dataset: https://wiki.csc.calpoly.edu/datasets/wiki/Houses\n",
   "\n",
   "The dataset contains the following fields:\n",
   "\n",
   "MLS: Multiple listing service number for the house (unique ID).\n",
   "Location: city/town where the house is located. Most locations are in San Luis Obispo county and northern Santa Barbara county (Santa Maria-Orcutt, Lompoc, Guadelupe, Los Alamos), but there some out of area locations as well.\n",
   "Price: the most recent listing price of the house (in dollars).\n",
   "Bedrooms: number of bedrooms.\n",
   "Bathrooms: number of bathrooms.\n",
   "Size: size of the house in square feet.\n",
   "Price/SQ.ft: price of the house per square foot.\n",
   "Status: type of sale. Thee types are represented in the dataset: Short Sale, Foreclosure and Regular."
  ]
 },
 {
  "cell_type": "code",
  "execution_count": 21,
  "metadata": {},
  "outputs": [],
  "source": [
   "import os\n",
   "os.environ['http_proxy'] = \"http://proxy.micron.com:8080\" "
  ]
 },
 {
  "cell_type": "code",
  "execution_count": 135,
  "metadata": {},
  "outputs": [
   {
    "data": {
     "text/html": [
      "<div>\n",
      "<style scoped>\n",
      "    .dataframe tbody tr th:only-of-type {\n",
      "        vertical-align: middle;\n",
      "    }\n",
      "\n",
      "    .dataframe tbody tr th {\n",
      "        vertical-align: top;\n",
      "    }\n",
      "\n",
      "    .dataframe thead th {\n",
      "        text-align: right;\n",
      "    }\n",
      "</style>\n",
      "<table border=\"1\" class=\"dataframe\">\n",
      "  <thead>\n",
      "    <tr style=\"text-align: right;\">\n",
      "      <th></th>\n",
      "      <th>MLS</th>\n",
      "      <th>Price</th>\n",
      "      <th>Bedrooms</th>\n",
      "      <th>Bathrooms</th>\n",
      "      <th>Size</th>\n",
     "      <th>Price/SQ.Ft</th>\n",
      "    </tr>\n",
      "  </thead>\n",
      "  <tbody>\n",
      "    <tr>\n",
      "      <th>count</th>\n",
      "      <td>781.000000</td>\n",
      "      <td>7.810000e+02</td>\n",
      "      <td>781.000000</td>\n",
      "      <td>781.000000</td>\n",
      "      <td>781.000000</td>\n",
      "      <td>781.000000</td>\n",
      "    </tr>\n",
      "    <tr>\n",
      "      <th>mean</th>\n",
      "      <td>151224.550576</td>\n",
      "      <td>3.833291e+05</td>\n",
      "      <td>3.142125</td>\n",
      "      <td>2.355954</td>\n",
      "      <td>1755.058899</td>\n",
      "      <td>213.131293</td>\n",
      "    </tr>\n",
      "    <tr>\n",
      "      <th>std</th>\n",
      "      <td>3936.122042</td>\n",
      "      <td>3.490381e+05</td>\n",
      "      <td>0.855768</td>\n",
      "      <td>0.846596</td>\n",
      "      <td>819.577603</td>\n",
      "      <td>115.082146</td>\n",
      "    </tr>\n",
      "    <tr>\n",
      "      <th>min</th>\n",
      "      <td>132842.000000</td>\n",
      "      <td>2.650000e+04</td>\n",
      "      <td>0.000000</td>\n",
      "      <td>1.000000</td>\n",
      "      <td>120.000000</td>\n",
      "      <td>19.330000</td>\n",
      "    </tr>\n",
      "    <tr>\n",
      "      <th>25%</th>\n",
      "      <td>149922.000000</td>\n",
      "      <td>1.990000e+05</td>\n",
      "      <td>3.000000</td>\n",
      "      <td>2.000000</td>\n",
      "      <td>1218.000000</td>\n",
      "      <td>142.140000</td>\n",
      "    </tr>\n",
      "    <tr>\n",
      "      <th>50%</th>\n",
      "      <td>152581.000000</td>\n",
      "      <td>2.950000e+05</td>\n",
      "      <td>3.000000</td>\n",
      "      <td>2.000000</td>\n",
      "      <td>1550.000000</td>\n",
      "      <td>188.360000</td>\n",
      "    </tr>\n",
      "    <tr>\n",
      "      <th>75%</th>\n",
      "      <td>154167.000000</td>\n",
      "      <td>4.290000e+05</td>\n",
      "      <td>4.000000</td>\n",
      "      <td>3.000000</td>\n",
      "      <td>2032.000000</td>\n",
      "      <td>245.420000</td>\n",
      "    </tr>\n",
      "    <tr>\n",
      "      <th>max</th>\n",
      "      <td>154580.000000</td>\n",
      "      <td>5.499000e+06</td>\n",
      "      <td>10.000000</td>\n",
      "      <td>11.000000</td>\n",
      "      <td>6800.000000</td>\n",
      "      <td>1144.640000</td>\n",
      "    </tr>\n",
      "  </tbody>\n",
      "</table>\n",
      "</div>"
     ],
     "text/plain": [
      "                 MLS         Price    Bedrooms   Bathrooms         Size  \\\n",
      "count     781.000000  7.810000e+02  781.000000  781.000000   781.000000   \n",
      "mean   151224.550576  3.833291e+05    3.142125    2.355954  1755.058899   \n",
      "std      3936.122042  3.490381e+05    0.855768    0.846596   819.577603   \n",
      "min    132842.000000  2.650000e+04    0.000000    1.000000   120.000000   \n",
      "25%    149922.000000  1.990000e+05    3.000000    2.000000  1218.000000   \n",
      "50%    152581.000000  2.950000e+05    3.000000    2.000000  1550.000000   \n",
      "75%    154167.000000  4.290000e+05    4.000000    3.000000  2032.000000   \n",
      "max    154580.000000  5.499000e+06   10.000000   11.000000  6800.000000   \n",
      "\n",
      "       Price/SQ.Ft  \n",
      "count   781.000000  \n",
      "mean    213.131293  \n",
      "std     115.082146  \n",
      "min      19.330000  \n",
      "25%     142.140000  \n",
      "50%     188.360000  \n",
      "75%     245.420000  \n",
      "max    1144.640000  "
     ]
    },
    "execution_count": 135,
    "metadata": {},
    "output_type": "execute_result"
   }
  ],
  "source": [
   "import numpy as np\n",
   "import pandas as pd\n",
   "import matplotlib.pyplot as plt\n",
   "from pylab import scatter, show, title, xlabel, ylabel, plot, contour\n",
   "import requests\n",
   "%matplotlib inline\n",
   "data_url='http://wiki.csc.calpoly.edu/datasets/attachment/wiki/Houses/RealEstate.csv'\n",
   "#data=pd.read_csv(data_url)\\\n",
   "data=pd.read_csv(\"C:\\One drive sync\\OneDrive - Micron Technology, Inc\\Trainings\\Python\\DataScience\\RealEstate.csv\")\n",
   "data.describe()"
  ]
 },
 {
  "cell_type": "code",
  "execution_count": 4,
  "metadata": {},
  "outputs": [],
 "source": [
   "def compute_cost_function(m, t0, t1, x, y):\n",
   "    total=0\n",
   "    for i in range(m):\n",
   "        total=total+(t0+t1*np.asarray([x[i]])-y[i])**2\n",
   "    cost=1/(2*m) * total\n",
   "    return cost\n",
   "        "
  ]
 },
 {
  "cell_type": "code",
  "execution_count": 68,
  "metadata": {},
  "outputs": [],
  "source": [
   "  def gradient_descent(alpha, x, y, ep=0.0001, max_iter=1500):\n",
   "    # initial theta\n",
   "    t0 = 0\n",
   "    t1 = 0\n",
   "    iter = 0\n",
   "    converged=False\n",
   "    m=len(x)\n",
   "    total_grad0=0\n",
   "    total_grad1=0\n",
   "    cost_functions=[]\n",
   "    theta_ones=[]\n",
   "    theta_nots=[]\n",
   "    while not converged:\n",
   "        for i in range(m):\n",
   "            total_grad0=total_grad0+(t0+t1*np.asarray([x[i]])-y[i])\n",
   "            total_grad1=total_grad1+(t0+t1*np.asarray([x[i]])-y[i])*np.asarray([x[i]])\n",
   "        grad0 = 1.0/m * total_grad0 \n",
   "        grad1 = 1.0/m * total_grad1\n",
   "        # update the theta_temp\n",
   "        temp0 = t0 - alpha * grad0\n",
  "        temp1 = t1 - alpha * grad1\n",
   "        theta_ones.append(temp1)\n",
   "        theta_nots.append(temp0)\n",
   "        # update theta\n",
   "        t0 = temp0\n",
   "        t1 = temp1\n",
   "\n",
   "        # mean squared error\n",
   "        e = compute_cost_function(m, t0, t1, x, y)\n",
   "        #print ('J = ', e)\n",
   "        cost_functions.append(e)\n",
   "        J = e   # update error \n",
   "        iter += 1  # update iter\n",
   "        if iter == max_iter:\n",
   "            print ('Max interactions exceeded!')\n",
   "            converged = True\n",
   "\n",
   "    return t0,t1,cost_functions,theta_nots,theta_ones"
  ]
 },
 {
  "cell_type": "code",
  "execution_count": 70,
  "metadata": {},
  "outputs": [
   {
    "data": {
     "text/plain": [
      "array([0.00169739])"
     ]
    },
    "execution_count": 70,
    "metadata": {},
    "output_type": "execute_result"
   }
  ],
  "source": [
   "Even though there are several ways to normalize a variable, the [0,1] normalization (also known as min-max) and the z-score normalization(Feature Scaling) are two of the most widely used. Here is how you can calculate both of them:\n",
   "\n",
   "XminmaxNorm = (X - min(X))/(max(X)-min(X));\n",
   "XzscoreNorm = (X - mean(X))/std(X);"
  ]
 },
 {
  "cell_type": "code",
  "execution_count": null,
  "metadata": {},
  "outputs": [],
  "source": [
   "    alpha = 0.01 # learning rate\n",
   "    ep = 0.001 # convergence criteria\n",
   "    \n",
   "    x=(data['Size']-data['Size'].min())/(data['Size'].max()-data['Size'].min())\n",
   "    y=(data['Price']-data['Price'].min())/(data['Price'].max()-data['Price'].min())\n",
   "    \n",
   "    #x = np.asarray([1, 1, 2, 3, 4, 3, 4, 6, 4])\n",
   "    #y = np.asarray([2, 1, 0.5, 1, 3, 3, 2, 5, 4])\n",
   " \n",
   "    # call gredient decent, and get intercept(=theta0) and slope(=theta1) and list of all theta0s, theta1s and error values\n",
   "    theta0, theta1,cost_functions,theta_nots,theta_ones = gradient_descent(alpha, x, y, ep, max_iter=100)\n",
   "    \n",
   "    print ('Hypothesis: h(x)=' + str(theta0)+'+ '+str(theta1)+'x')\n",
   " \n",
   "    # plot\n",
   "    for i in range(x.shape[0]):\n",
   "        y_predict = theta0 + theta1*x\n",
   "\n",
   "    plt.scatter(x, y)\n",
   "    plt.plot(x,y_predict) "
  ]
 },
 {
  "cell_type": "code",
  "execution_count": 261,
  "metadata": {},
  "outputs": [],
  "source": [
   "compute_cost_function(len(x),theta0, theta1, x, y)\n"
  ]
 },
 {
  "cell_type": "code",
  "execution_count": null,
  "metadata": {},
  "outputs": [],
  "source": [
   "from mpl_toolkits.mplot3d import Axes3D\n",
   "from matplotlib import cm\n",
   "\n",
   "Zs = np.array(cost_functions)\n",
   "fig = plt.figure(figsize=(7,7))\n",
   "ax = fig.gca(projection=\"3d\")\n",
   "ax.set_xlabel(r't0')\n",
   "ax.set_ylabel(r't1')\n",
   "ax.set_zlabel(r'cost')\n",
   "ax.view_init(elev=30, azim=50)\n",
   "ax.plot_surface(theta_nots, theta_ones, Zs, cmap=cm.rainbow)"
  ]
 },
 {
  "cell_type": "markdown",
  "metadata": {},
  "source": [
   "theta_nots=np.asarray(theta_nots)\n",
   "theta_ones=np.asarray(theta_ones)\n",
   "Zs = np.asarray(cost_functions)\n",
   "plt.tricontour(theta_nots.ravel(), theta_ones.ravel(), Zs.ravel()) \n",
   "plt.plot(theta0, theta1, 'r*')"
  ]
 },
 {
  "cell_type": "code",
  "execution_count": null,
  "metadata": {},
  "outputs": [],
  "source": [
   "    \n"
  ]
 },
 {
  "cell_type": "code",
  "execution_count": null,
  "metadata": {},
  "outputs": [],
  "source": []
 },
 {
  "cell_type": "code",
  "execution_count": null,
  "metadata": {},
  "outputs": [],
  "source": []
 },
 {
  "cell_type": "code",
  "execution_count": null,
  "metadata": {},
  "outputs": [],
  "source": [
   "\n"
  ]
 },
 {
  "cell_type": "code",
  "execution_count": null,
  "metadata": {},
  "outputs": [],
  "source": []
 },
 {
  "cell_type": "code",
  "execution_count": null,
  "metadata": {},
  "outputs": [],
  "source": []
 }
],
"metadata": {
 "kernelspec": {
  "display_name": "Python 3",
  "language": "python",
  "name": "python3"
 },
 "language_info": {
  "codemirror_mode": {
   "name": "ipython",
   "version": 3
  },
  "file_extension": ".py",
  "mimetype": "text/x-python",
  "name": "python",
  "nbconvert_exporter": "python",
  "pygments_lexer": "ipython3",
  "version": "3.6.2rc1"
 }
},
"nbformat": 4,
"nbformat_minor": 2
}