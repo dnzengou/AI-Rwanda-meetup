{
 "cells": [
  {
   "cell_type": "markdown",
   "metadata": {},
   "source": [
    "Others:\n",
    "\n",
    "[How much of Numpy is in C?](https://stackoverflow.com/questions/1825857/how-much-of-numpy-and-scipy-is-in-c)\n",
    "\n",
    "[Python Performance](http://scipy.github.io/old-wiki/pages/PerformancePython.html)\n",
    "\n",
    "[Numpy vs Cython](https://stackoverflow.com/questions/7799977/numpy-vs-cython-speed?utm_medium=organic&utm_source=google_rich_qa&utm_campaign=google_rich_qa)\n",
    "\n",
    "[performance of python cython and c on a vector](http://notes-on-cython.readthedocs.io/en/latest/std_dev.html)\n",
    "\n",
    "[Which-is-faster-numpy-vectorized-code-or-hand-written-C-code](https://www.quora.com/Which-is-faster-numpy-vectorized-code-or-hand-written-C-code)\n",
    "\n",
    "[Tensorflow vs Numpy](https://towardsdatascience.com/numpy-vs-tensorflow-speed-on-matrix-calculations-9cbff6b3ce04)\n",
    "\n",
    "\"The optimized C code numpy/scipy use behind the scenes consists of the Automatically Tuned Linear Algebra Software (ATLAS), BLAS (Basic Linear Algebra Subprograms) and LAPACK - Linear Algebra PACKage. These libraries have been developed and worked on for ages, are the gold standard of linear algebra vector and matrix computations, and their performance for a given machine are the benchmark used to determine which architecture is best for scientific computing—Intel and other CPU chip makers care very much about these benchmarks and make sure the code is as updated and optimal as humanly possible.\n",
    "\n",
    "Essentially nobody writes their own linear algebra routines anymore. It just makes no sense in general, and when it does, it's only in very particular cases (and in these special cases it almost always involves careful assembly coding for a specialized or one-of-a-kind architecture).\n",
    "\n",
    "So if for some reason you feel your code is too slow, please consider doing all the appropriate profiling runs to find out exactly why. Odds are the linear algebra algorithms aren't to blame, and writing your own won't improve anything (and might even reduce performance).\"\n",
    "\n",
    "[why is list comprehension append faster than list.append?](https://www.quora.com/Why-are-list-comprehensions-faster-than-for-loops-in-Python)\n",
    "\n",
    "The speed of list comprehensions is notably better than for-loops when appending items to the list.\n",
    "\n",
    "List comprehensions perform better here because you don’t need to load the append attribute off of the list and call it as a function. Instead, in a comprehension, a specialized LIST_APPEND bytecode is generated for a fast append onto the result list.\n",
    "\n",
    "Much more information and a better explanation in the source below.\n",
    "\n",
    "----\n",
    "Source: [Efficiency of list comprehensions](http://blog.cdleary.com/2010/04/efficiency-of-list-comprehensions/)"
   ]
  },
  {
   "cell_type": "code",
   "execution_count": 2,
   "metadata": {},
   "outputs": [],
   "source": [
    "import dis\n",
    "import inspect\n",
    "import timeit\n",
    "\n",
    "\n",
    "programs = dict(\n",
    "    loop=\"\"\"\n",
    "result = []\n",
    "for i in range(20):\n",
    "    result.append(i * 2)\n",
    "\"\"\",\n",
    "   loop_faster=\"\"\"\n",
    "result = []\n",
    "add = result.append\n",
    "for i in range(20):\n",
    "    add(i * 2)\n",
    "\"\"\",\n",
    "    comprehension='result = [i * 2 for i in range(20)]',\n",
    ")"
   ]
  },
  {
   "cell_type": "code",
   "execution_count": 5,
   "metadata": {},
   "outputs": [
    {
     "name": "stdout",
     "output_type": "stream",
     "text": [
      "loop 1.9982350549980765\n",
      "  2           0 BUILD_LIST               0\n",
      "              2 STORE_NAME               0 (result)\n",
      "\n",
      "  3           4 SETUP_LOOP              30 (to 36)\n",
      "              6 LOAD_NAME                1 (range)\n",
      "              8 LOAD_CONST               0 (20)\n",
      "             10 CALL_FUNCTION            1\n",
      "             12 GET_ITER\n",
      "        >>   14 FOR_ITER                18 (to 34)\n",
      "             16 STORE_NAME               2 (i)\n",
      "\n",
      "  4          18 LOAD_NAME                0 (result)\n",
      "             20 LOAD_ATTR                3 (append)\n",
      "             22 LOAD_NAME                2 (i)\n",
      "             24 LOAD_CONST               1 (2)\n",
      "             26 BINARY_MULTIPLY\n",
      "             28 CALL_FUNCTION            1\n",
      "             30 POP_TOP\n",
      "             32 JUMP_ABSOLUTE           14\n",
      "        >>   34 POP_BLOCK\n",
      "        >>   36 LOAD_CONST               2 (None)\n",
      "             38 RETURN_VALUE\n",
      "loop_faster 1.535684387999936\n",
      "  2           0 BUILD_LIST               0\n",
      "              2 STORE_NAME               0 (result)\n",
      "\n",
      "  3           4 LOAD_NAME                0 (result)\n",
      "              6 LOAD_ATTR                1 (append)\n",
      "              8 STORE_NAME               2 (add)\n",
      "\n",
      "  4          10 SETUP_LOOP              28 (to 40)\n",
      "             12 LOAD_NAME                3 (range)\n",
      "             14 LOAD_CONST               0 (20)\n",
      "             16 CALL_FUNCTION            1\n",
      "             18 GET_ITER\n",
      "        >>   20 FOR_ITER                16 (to 38)\n",
      "             22 STORE_NAME               4 (i)\n",
      "\n",
      "  5          24 LOAD_NAME                2 (add)\n",
      "             26 LOAD_NAME                4 (i)\n",
      "             28 LOAD_CONST               1 (2)\n",
      "             30 BINARY_MULTIPLY\n",
      "             32 CALL_FUNCTION            1\n",
      "             34 POP_TOP\n",
      "             36 JUMP_ABSOLUTE           20\n",
      "        >>   38 POP_BLOCK\n",
      "        >>   40 LOAD_CONST               2 (None)\n",
      "             42 RETURN_VALUE\n",
      "comprehension 1.156434235002962\n",
      "  1           0 LOAD_CONST               0 (<code object <listcomp> at 0x7f4c54df4c00, file \"<string>\", line 1>)\n",
      "              2 LOAD_CONST               1 ('<listcomp>')\n",
      "              4 MAKE_FUNCTION            0\n",
      "              6 LOAD_NAME                0 (range)\n",
      "              8 LOAD_CONST               2 (20)\n",
      "             10 CALL_FUNCTION            1\n",
      "             12 GET_ITER\n",
      "             14 CALL_FUNCTION            1\n",
      "             16 STORE_NAME               1 (result)\n",
      "             18 LOAD_CONST               3 (None)\n",
      "             20 RETURN_VALUE\n"
     ]
    }
   ],
   "source": [
    "for name, text in programs.items():\n",
    "    print (name, timeit.Timer(stmt=text).timeit())\n",
    "    code = compile(text, '<string>', 'exec')\n",
    "    dis.disassemble(code)"
   ]
  },
  {
   "cell_type": "markdown",
   "metadata": {},
   "source": [
    "[Python loop optimization](https://nyu-cds.github.io/python-performance-tips/08-loops/)\n",
    "\n",
    "The same loop can also be written with a list comprehension. You can use list comprehension to replace many for and while blocks. List comprehension is faster because it is optimized for the Python interpreter to spot a predictable pattern during looping. Besides the syntactic benefit of list comprehensions, they are often as fast or faster than equivalent use of map.\n",
    "\n",
    "- in the link example, no use of upper(), append() functions and not having to access them saves a ton\n",
    "- syntactically better\n",
    "- fast/faster than equivalent use of map\n",
    "- comprehension is optimized for Python interpreter\n"
   ]
  },
  {
   "cell_type": "code",
   "execution_count": 7,
   "metadata": {},
   "outputs": [],
   "source": [
    "import timeit\n",
    "\n",
    "list_code = '''\n",
    "out = []\n",
    "for x in range(100000):\n",
    "    out.append(x*2)\n",
    "'''\n",
    "\n",
    "list_comprehension_code = '''[x*2 for x in range(100000)]'''"
   ]
  },
  {
   "cell_type": "code",
   "execution_count": 8,
   "metadata": {},
   "outputs": [
    {
     "data": {
      "text/plain": [
       "126.24306294300186"
      ]
     },
     "execution_count": 8,
     "metadata": {},
     "output_type": "execute_result"
    }
   ],
   "source": [
    "timeit.timeit(stmt=list_code, number=10000)"
   ]
  },
  {
   "cell_type": "code",
   "execution_count": 9,
   "metadata": {},
   "outputs": [
    {
     "data": {
      "text/plain": [
       "73.33117101399694"
      ]
     },
     "execution_count": 9,
     "metadata": {},
     "output_type": "execute_result"
    }
   ],
   "source": [
    "timeit.timeit(stmt=list_comprehension_code, number=10000)"
   ]
  },
  {
   "cell_type": "markdown",
   "metadata": {},
   "source": [
    "## Size of float, numpy item size, etc."
   ]
  },
  {
   "cell_type": "code",
   "execution_count": 11,
   "metadata": {},
   "outputs": [
    {
     "data": {
      "text/plain": [
       "sys.float_info(max=1.7976931348623157e+308, max_exp=1024, max_10_exp=308, min=2.2250738585072014e-308, min_exp=-1021, min_10_exp=-307, dig=15, mant_dig=53, epsilon=2.220446049250313e-16, radix=2, rounds=1)"
      ]
     },
     "execution_count": 11,
     "metadata": {},
     "output_type": "execute_result"
    }
   ],
   "source": [
    "# A_np.itemsize\n",
    "\n",
    "import sys\n",
    "sys.float_info"
   ]
  },
  {
   "cell_type": "code",
   "execution_count": 13,
   "metadata": {},
   "outputs": [],
   "source": [
    "# Numpy internal layout \n",
    "\n",
    "# https://docs.scipy.org/doc/numpy-1.14.1/reference/arrays.ndarray.html#internal-memory-layout-of-an-ndarray"
   ]
  },
  {
   "cell_type": "code",
   "execution_count": null,
   "metadata": {},
   "outputs": [],
   "source": []
  }
 ],
 "metadata": {
  "kernelspec": {
   "display_name": "Python 3",
   "language": "python",
   "name": "python3"
  },
  "language_info": {
   "codemirror_mode": {
    "name": "ipython",
    "version": 3
   },
   "file_extension": ".py",
   "mimetype": "text/x-python",
   "name": "python",
   "nbconvert_exporter": "python",
   "pygments_lexer": "ipython3",
   "version": "3.6.5"
  }
 },
 "nbformat": 4,
 "nbformat_minor": 2
}
