{
 "cells": [
  {
   "cell_type": "markdown",
   "metadata": {},
   "source": [
    "# Linear Regession Intuit"
   ]
  },
  {
   "cell_type": "markdown",
   "metadata": {},
   "source": [
    "Different Learning methods\n",
    "\n",
    "Supervised Learning\n",
    "•\tThe training dataset contains inputs data (your predictors) and the value you want to predict (which can be numeric or not).\n",
    "•\tThe model will use the training data to learn a link between the input and the outputs. Underlying idea is that the training data can be generalized and that the model can be used on new data with some accuracy.\n",
    "Some supervised learning algorithms:\n",
    "•\tLinear and logistic regression\n",
    "•\tSupport vector machine\n",
    "•\tNaive Bayes\n",
    "•\tNeural network\n",
    "•\tGradient boosting\n",
    "•\tClassification trees and random forest\n",
    "\n",
    "\n",
    "Unsupervised Learning\n",
    "Unsupervised learning does not use output data (at least output data that are different from the input). Unsupervised algorithms can be split into different categories:\n",
    "•\tClustering algorithm, such as K-means, hierarchical clustering or mixture models. These algorithms try to discriminate and separate the observations in different groups.\n",
    "•\tDimensionality reduction algorithms (which are mostly unsupervised) such as PCA, ICA or autoencoder. These algorithms find the best representation of the data with fewer dimensions.\n",
    "•\tAnomaly detections to find outliers in the data, i.e. observations which do not follow the data set patterns.\n",
    "\n"
   ]
  },
  {
   "cell_type": "code",
   "execution_count": null,
   "metadata": {},
   "outputs": [],
   "source": []
  },
  {
   "cell_type": "code",
   "execution_count": 15,
   "metadata": {},
   "outputs": [
    {
     "ename": "SyntaxError",
     "evalue": "invalid syntax (<ipython-input-15-12528275e0dc>, line 1)",
     "output_type": "error",
     "traceback": [
      "\u001b[1;36m  File \u001b[1;32m\"<ipython-input-15-12528275e0dc>\"\u001b[1;36m, line \u001b[1;32m1\u001b[0m\n\u001b[1;33m    <img alt=\"Clustering\" src=\"./images/clustering.png\" height=\"200\" width=\"200\">\u001b[0m\n\u001b[1;37m    ^\u001b[0m\n\u001b[1;31mSyntaxError\u001b[0m\u001b[1;31m:\u001b[0m invalid syntax\n"
     ]
    }
   ],
   "source": [
    "<img alt=\"Clustering\" src=\"./images/clustering.png\" height=\"200\" width=\"200\">\n",
    "<p style=\"text-align:center\">Fig: Clustering</p>"
   ]
  },
  {
   "cell_type": "markdown",
   "metadata": {},
   "source": [
    "Reinforcement Learning\n",
    "Reinforcement learning algorithms try to find the best ways to earn the greatest reward.Characteristics are:\n",
    "•\tFeedback present\n",
    "•\tLarge number of inputs and outputs not possible to list\n",
    "•\tLearn from its mistakes\n",
    "Reference: https://www.youtube.com/watch?v=m2weFARriE8"
   ]
  },
  {
   "cell_type": "markdown",
   "metadata": {},
   "source": [
    "<iframe width=\"560\" height=\"315\" src=\"https://www.youtube.com/embed/m2weFARriE8\" frameborder=\"0\" allow=\"autoplay; encrypted-media\" allowfullscreen></iframe>"
   ]
  },
  {
   "cell_type": "markdown",
   "metadata": {},
   "source": [
    "<img alt=\"Reinforcemnet Learning\" src=\"./images/reinforcement.png\" height=\"200\" width=\"200\">\n",
    "<p style=\"text-align:center\">Fig: Reinforcement Learning</p>"
   ]
  },
  {
   "cell_type": "code",
   "execution_count": null,
   "metadata": {},
   "outputs": [],
   "source": [
    "Reinforcement vs Supervised\n",
    "    No feedback in supervised\n",
    "Reinforcement vs Unsupervised\n",
    "    No feedback and no environment\n"
   ]
  },
  {
   "cell_type": "raw",
   "metadata": {},
   "source": [
    "## Linear Regression with one variable Intuit"
   ]
  },
  {
   "cell_type": "raw",
   "metadata": {},
   "source": [
    "Dataset: https://wiki.csc.calpoly.edu/datasets/wiki/Houses\n",
    "The dataset contains the following fields:\n",
    "        MLS: Multiple listing service number for the house (unique ID).\n",
    "        Location: city/town where the house is located. Most locations are in San Luis Obispo county and northern Santa Barbara county (Santa Maria-Orcutt, Lompoc, Guadelupe, Los Alamos), but there some out of area locations as well. \n",
    "        Price: the most recent listing price of the house (in dollars). \n",
    "        Bedrooms: number of bedrooms. Bathrooms: number of bathrooms. \n",
    "        Size: size of the house in square feet. \n",
    "        Price/SQ.ft: price of the house per square foot. \n",
    "        Status: type of sale. Thee types are represented in the dataset: Short Sale, Foreclosure and Regular.\n"
   ]
  },
  {
   "cell_type": "code",
   "execution_count": 21,
   "metadata": {},
   "outputs": [
    {
     "data": {
      "text/html": [
       "<div>\n",
       "<style scoped>\n",
       "    .dataframe tbody tr th:only-of-type {\n",
       "        vertical-align: middle;\n",
       "    }\n",
       "\n",
       "    .dataframe tbody tr th {\n",
       "        vertical-align: top;\n",
       "    }\n",
       "\n",
       "    .dataframe thead th {\n",
       "        text-align: right;\n",
       "    }\n",
       "</style>\n",
       "<table border=\"1\" class=\"dataframe\">\n",
       "  <thead>\n",
       "    <tr style=\"text-align: right;\">\n",
       "      <th></th>\n",
       "      <th>MLS</th>\n",
       "      <th>Location</th>\n",
       "      <th>Price</th>\n",
       "      <th>Bedrooms</th>\n",
       "      <th>Bathrooms</th>\n",
       "      <th>Size</th>\n",
       "      <th>Price/SQ.Ft</th>\n",
       "      <th>Status</th>\n",
       "    </tr>\n",
       "  </thead>\n",
       "  <tbody>\n",
       "    <tr>\n",
       "      <th>0</th>\n",
       "      <td>132842</td>\n",
       "      <td>Arroyo Grande</td>\n",
       "      <td>795000.0</td>\n",
       "      <td>3</td>\n",
       "      <td>3</td>\n",
       "      <td>2371</td>\n",
       "      <td>335.30</td>\n",
       "      <td>Short Sale</td>\n",
       "    </tr>\n",
       "    <tr>\n",
       "      <th>1</th>\n",
       "      <td>134364</td>\n",
       "      <td>Paso Robles</td>\n",
       "      <td>399000.0</td>\n",
       "      <td>4</td>\n",
       "      <td>3</td>\n",
       "      <td>2818</td>\n",
       "      <td>141.59</td>\n",
       "      <td>Short Sale</td>\n",
       "    </tr>\n",
       "    <tr>\n",
       "      <th>2</th>\n",
       "      <td>135141</td>\n",
       "      <td>Paso Robles</td>\n",
       "      <td>545000.0</td>\n",
       "      <td>4</td>\n",
       "      <td>3</td>\n",
       "      <td>3032</td>\n",
       "      <td>179.75</td>\n",
       "      <td>Short Sale</td>\n",
       "    </tr>\n",
       "    <tr>\n",
       "      <th>3</th>\n",
       "      <td>135712</td>\n",
       "      <td>Morro Bay</td>\n",
       "      <td>909000.0</td>\n",
       "      <td>4</td>\n",
       "      <td>4</td>\n",
       "      <td>3540</td>\n",
       "      <td>256.78</td>\n",
       "      <td>Short Sale</td>\n",
       "    </tr>\n",
       "    <tr>\n",
       "      <th>4</th>\n",
       "      <td>136282</td>\n",
       "      <td>Santa Maria-Orcutt</td>\n",
       "      <td>109900.0</td>\n",
       "      <td>3</td>\n",
       "      <td>1</td>\n",
       "      <td>1249</td>\n",
       "      <td>87.99</td>\n",
       "      <td>Short Sale</td>\n",
       "    </tr>\n",
       "    <tr>\n",
       "      <th>5</th>\n",
       "      <td>136431</td>\n",
       "      <td>Oceano</td>\n",
       "      <td>324900.0</td>\n",
       "      <td>3</td>\n",
       "      <td>3</td>\n",
       "      <td>1800</td>\n",
       "      <td>180.50</td>\n",
       "      <td>Short Sale</td>\n",
       "    </tr>\n",
       "    <tr>\n",
       "      <th>6</th>\n",
       "      <td>137036</td>\n",
       "      <td>Santa Maria-Orcutt</td>\n",
       "      <td>192900.0</td>\n",
       "      <td>4</td>\n",
       "      <td>2</td>\n",
       "      <td>1603</td>\n",
       "      <td>120.34</td>\n",
       "      <td>Short Sale</td>\n",
       "    </tr>\n",
       "    <tr>\n",
       "      <th>7</th>\n",
       "      <td>137090</td>\n",
       "      <td>Santa Maria-Orcutt</td>\n",
       "      <td>215000.0</td>\n",
       "      <td>3</td>\n",
       "      <td>2</td>\n",
       "      <td>1450</td>\n",
       "      <td>148.28</td>\n",
       "      <td>Short Sale</td>\n",
       "    </tr>\n",
       "    <tr>\n",
       "      <th>8</th>\n",
       "      <td>137159</td>\n",
       "      <td>Morro Bay</td>\n",
       "      <td>999000.0</td>\n",
       "      <td>4</td>\n",
       "      <td>3</td>\n",
       "      <td>3360</td>\n",
       "      <td>297.32</td>\n",
       "      <td>Short Sale</td>\n",
       "    </tr>\n",
       "    <tr>\n",
       "      <th>9</th>\n",
       "      <td>137570</td>\n",
       "      <td>Atascadero</td>\n",
       "      <td>319000.0</td>\n",
       "      <td>3</td>\n",
       "      <td>2</td>\n",
       "      <td>1323</td>\n",
       "      <td>241.12</td>\n",
       "      <td>Short Sale</td>\n",
       "    </tr>\n",
       "    <tr>\n",
       "      <th>10</th>\n",
       "      <td>138053</td>\n",
       "      <td>Santa Maria-Orcutt</td>\n",
       "      <td>350000.0</td>\n",
       "      <td>3</td>\n",
       "      <td>2</td>\n",
       "      <td>1750</td>\n",
       "      <td>200.00</td>\n",
       "      <td>Short Sale</td>\n",
       "    </tr>\n",
       "    <tr>\n",
       "      <th>11</th>\n",
       "      <td>138730</td>\n",
       "      <td>Santa Maria-Orcutt</td>\n",
       "      <td>249000.0</td>\n",
       "      <td>3</td>\n",
       "      <td>2</td>\n",
       "      <td>1400</td>\n",
       "      <td>177.86</td>\n",
       "      <td>Short Sale</td>\n",
       "    </tr>\n",
       "    <tr>\n",
       "      <th>12</th>\n",
       "      <td>139291</td>\n",
       "      <td>Arroyo Grande</td>\n",
       "      <td>299000.0</td>\n",
       "      <td>2</td>\n",
       "      <td>2</td>\n",
       "      <td>1257</td>\n",
       "      <td>237.87</td>\n",
       "      <td>Short Sale</td>\n",
       "    </tr>\n",
       "    <tr>\n",
       "      <th>13</th>\n",
       "      <td>139427</td>\n",
       "      <td>Santa Maria-Orcutt</td>\n",
       "      <td>235900.0</td>\n",
       "      <td>3</td>\n",
       "      <td>2</td>\n",
       "      <td>1400</td>\n",
       "      <td>168.50</td>\n",
       "      <td>Short Sale</td>\n",
       "    </tr>\n",
       "    <tr>\n",
       "      <th>14</th>\n",
       "      <td>139461</td>\n",
       "      <td>Santa Maria-Orcutt</td>\n",
       "      <td>348000.0</td>\n",
       "      <td>3</td>\n",
       "      <td>2</td>\n",
       "      <td>1600</td>\n",
       "      <td>217.50</td>\n",
       "      <td>Short Sale</td>\n",
       "    </tr>\n",
       "    <tr>\n",
       "      <th>15</th>\n",
       "      <td>139661</td>\n",
       "      <td>Paso Robles</td>\n",
       "      <td>314000.0</td>\n",
       "      <td>4</td>\n",
       "      <td>3</td>\n",
       "      <td>1794</td>\n",
       "      <td>175.03</td>\n",
       "      <td>Short Sale</td>\n",
       "    </tr>\n",
       "    <tr>\n",
       "      <th>16</th>\n",
       "      <td>139918</td>\n",
       "      <td>Los Alamos</td>\n",
       "      <td>399000.0</td>\n",
       "      <td>4</td>\n",
       "      <td>2</td>\n",
       "      <td>1850</td>\n",
       "      <td>215.68</td>\n",
       "      <td>Short Sale</td>\n",
       "    </tr>\n",
       "    <tr>\n",
       "      <th>17</th>\n",
       "      <td>139932</td>\n",
       "      <td>San Miguel</td>\n",
       "      <td>599000.0</td>\n",
       "      <td>3</td>\n",
       "      <td>3</td>\n",
       "      <td>2950</td>\n",
       "      <td>203.05</td>\n",
       "      <td>Short Sale</td>\n",
       "    </tr>\n",
       "    <tr>\n",
       "      <th>18</th>\n",
       "      <td>140044</td>\n",
       "      <td>Paso Robles</td>\n",
       "      <td>299000.0</td>\n",
       "      <td>3</td>\n",
       "      <td>2</td>\n",
       "      <td>1719</td>\n",
       "      <td>173.94</td>\n",
       "      <td>Short Sale</td>\n",
       "    </tr>\n",
       "    <tr>\n",
       "      <th>19</th>\n",
       "      <td>140073</td>\n",
       "      <td>San Luis Obispo</td>\n",
       "      <td>425000.0</td>\n",
       "      <td>3</td>\n",
       "      <td>3</td>\n",
       "      <td>1472</td>\n",
       "      <td>288.72</td>\n",
       "      <td>Short Sale</td>\n",
       "    </tr>\n",
       "    <tr>\n",
       "      <th>20</th>\n",
       "      <td>140077</td>\n",
       "      <td>Morro Bay</td>\n",
       "      <td>1100000.0</td>\n",
       "      <td>4</td>\n",
       "      <td>3</td>\n",
       "      <td>4168</td>\n",
       "      <td>263.92</td>\n",
       "      <td>Short Sale</td>\n",
       "    </tr>\n",
       "    <tr>\n",
       "      <th>21</th>\n",
       "      <td>140080</td>\n",
       "      <td>Cayucos</td>\n",
       "      <td>1500000.0</td>\n",
       "      <td>3</td>\n",
       "      <td>3</td>\n",
       "      <td>3880</td>\n",
       "      <td>386.60</td>\n",
       "      <td>Short Sale</td>\n",
       "    </tr>\n",
       "    <tr>\n",
       "      <th>22</th>\n",
       "      <td>140113</td>\n",
       "      <td>Santa Maria-Orcutt</td>\n",
       "      <td>110000.0</td>\n",
       "      <td>2</td>\n",
       "      <td>1</td>\n",
       "      <td>1000</td>\n",
       "      <td>110.00</td>\n",
       "      <td>Short Sale</td>\n",
       "    </tr>\n",
       "    <tr>\n",
       "      <th>23</th>\n",
       "      <td>140395</td>\n",
       "      <td>Santa Maria-Orcutt</td>\n",
       "      <td>200000.0</td>\n",
       "      <td>3</td>\n",
       "      <td>2</td>\n",
       "      <td>1139</td>\n",
       "      <td>175.59</td>\n",
       "      <td>Short Sale</td>\n",
       "    </tr>\n",
       "    <tr>\n",
       "      <th>24</th>\n",
       "      <td>140460</td>\n",
       "      <td>Santa Maria-Orcutt</td>\n",
       "      <td>134900.0</td>\n",
       "      <td>3</td>\n",
       "      <td>1</td>\n",
       "      <td>1080</td>\n",
       "      <td>124.91</td>\n",
       "      <td>Short Sale</td>\n",
       "    </tr>\n",
       "    <tr>\n",
       "      <th>25</th>\n",
       "      <td>140703</td>\n",
       "      <td>Santa Maria-Orcutt</td>\n",
       "      <td>250000.0</td>\n",
       "      <td>4</td>\n",
       "      <td>3</td>\n",
       "      <td>2000</td>\n",
       "      <td>125.00</td>\n",
       "      <td>Short Sale</td>\n",
       "    </tr>\n",
       "    <tr>\n",
       "      <th>26</th>\n",
       "      <td>140720</td>\n",
       "      <td>Pismo Beach</td>\n",
       "      <td>950000.0</td>\n",
       "      <td>3</td>\n",
       "      <td>4</td>\n",
       "      <td>1920</td>\n",
       "      <td>494.79</td>\n",
       "      <td>Short Sale</td>\n",
       "    </tr>\n",
       "    <tr>\n",
       "      <th>27</th>\n",
       "      <td>140731</td>\n",
       "      <td>Santa Maria-Orcutt</td>\n",
       "      <td>239950.0</td>\n",
       "      <td>4</td>\n",
       "      <td>2</td>\n",
       "      <td>1348</td>\n",
       "      <td>178.00</td>\n",
       "      <td>Short Sale</td>\n",
       "    </tr>\n",
       "    <tr>\n",
       "      <th>28</th>\n",
       "      <td>141188</td>\n",
       "      <td>Santa Maria-Orcutt</td>\n",
       "      <td>170000.0</td>\n",
       "      <td>3</td>\n",
       "      <td>2</td>\n",
       "      <td>1280</td>\n",
       "      <td>132.81</td>\n",
       "      <td>Short Sale</td>\n",
       "    </tr>\n",
       "    <tr>\n",
       "      <th>29</th>\n",
       "      <td>141212</td>\n",
       "      <td>Santa Maria-Orcutt</td>\n",
       "      <td>285000.0</td>\n",
       "      <td>3</td>\n",
       "      <td>2</td>\n",
       "      <td>2400</td>\n",
       "      <td>118.75</td>\n",
       "      <td>Short Sale</td>\n",
       "    </tr>\n",
       "    <tr>\n",
       "      <th>...</th>\n",
       "      <td>...</td>\n",
       "      <td>...</td>\n",
       "      <td>...</td>\n",
       "      <td>...</td>\n",
       "      <td>...</td>\n",
       "      <td>...</td>\n",
       "      <td>...</td>\n",
       "      <td>...</td>\n",
       "    </tr>\n",
       "    <tr>\n",
       "      <th>751</th>\n",
       "      <td>154523</td>\n",
       "      <td>Arroyo Grande</td>\n",
       "      <td>509000.0</td>\n",
       "      <td>3</td>\n",
       "      <td>2</td>\n",
       "      <td>1543</td>\n",
       "      <td>329.88</td>\n",
       "      <td>Regular</td>\n",
       "    </tr>\n",
       "    <tr>\n",
       "      <th>752</th>\n",
       "      <td>154525</td>\n",
       "      <td>Paso Robles</td>\n",
       "      <td>214900.0</td>\n",
       "      <td>2</td>\n",
       "      <td>2</td>\n",
       "      <td>1351</td>\n",
       "      <td>159.07</td>\n",
       "      <td>Regular</td>\n",
       "    </tr>\n",
       "    <tr>\n",
       "      <th>753</th>\n",
       "      <td>154526</td>\n",
       "      <td>Arroyo Grande</td>\n",
       "      <td>5499000.0</td>\n",
       "      <td>4</td>\n",
       "      <td>5</td>\n",
       "      <td>5060</td>\n",
       "      <td>1086.76</td>\n",
       "      <td>Regular</td>\n",
       "    </tr>\n",
       "    <tr>\n",
       "      <th>754</th>\n",
       "      <td>154528</td>\n",
       "      <td>Santa Maria-Orcutt</td>\n",
       "      <td>349900.0</td>\n",
       "      <td>3</td>\n",
       "      <td>2</td>\n",
       "      <td>2000</td>\n",
       "      <td>174.95</td>\n",
       "      <td>Regular</td>\n",
       "    </tr>\n",
       "    <tr>\n",
       "      <th>755</th>\n",
       "      <td>154530</td>\n",
       "      <td>Solvang</td>\n",
       "      <td>125000.0</td>\n",
       "      <td>2</td>\n",
       "      <td>2</td>\n",
       "      <td>1536</td>\n",
       "      <td>81.38</td>\n",
       "      <td>Regular</td>\n",
       "    </tr>\n",
       "    <tr>\n",
       "      <th>756</th>\n",
       "      <td>154531</td>\n",
       "      <td>Cambria</td>\n",
       "      <td>549000.0</td>\n",
       "      <td>2</td>\n",
       "      <td>2</td>\n",
       "      <td>924</td>\n",
       "      <td>594.16</td>\n",
       "      <td>Short Sale</td>\n",
       "    </tr>\n",
       "    <tr>\n",
       "      <th>757</th>\n",
       "      <td>154532</td>\n",
       "      <td>Cambria</td>\n",
       "      <td>865000.0</td>\n",
       "      <td>3</td>\n",
       "      <td>3</td>\n",
       "      <td>1860</td>\n",
       "      <td>465.05</td>\n",
       "      <td>Regular</td>\n",
       "    </tr>\n",
       "    <tr>\n",
       "      <th>758</th>\n",
       "      <td>154533</td>\n",
       "      <td>Bradley</td>\n",
       "      <td>1600000.0</td>\n",
       "      <td>3</td>\n",
       "      <td>3</td>\n",
       "      <td>2640</td>\n",
       "      <td>606.06</td>\n",
       "      <td>Regular</td>\n",
       "    </tr>\n",
       "    <tr>\n",
       "      <th>759</th>\n",
       "      <td>154534</td>\n",
       "      <td>Nipomo</td>\n",
       "      <td>1065000.0</td>\n",
       "      <td>4</td>\n",
       "      <td>4</td>\n",
       "      <td>3395</td>\n",
       "      <td>313.70</td>\n",
       "      <td>Regular</td>\n",
       "    </tr>\n",
       "    <tr>\n",
       "      <th>760</th>\n",
       "      <td>154536</td>\n",
       "      <td>Templeton</td>\n",
       "      <td>625000.0</td>\n",
       "      <td>3</td>\n",
       "      <td>2</td>\n",
       "      <td>1850</td>\n",
       "      <td>337.84</td>\n",
       "      <td>Foreclosure</td>\n",
       "    </tr>\n",
       "    <tr>\n",
       "      <th>761</th>\n",
       "      <td>154538</td>\n",
       "      <td>Santa Maria-Orcutt</td>\n",
       "      <td>249999.0</td>\n",
       "      <td>3</td>\n",
       "      <td>2</td>\n",
       "      <td>1000</td>\n",
       "      <td>250.00</td>\n",
       "      <td>Regular</td>\n",
       "    </tr>\n",
       "    <tr>\n",
       "      <th>762</th>\n",
       "      <td>154539</td>\n",
       "      <td>Arroyo Grande</td>\n",
       "      <td>975000.0</td>\n",
       "      <td>4</td>\n",
       "      <td>3</td>\n",
       "      <td>2720</td>\n",
       "      <td>358.46</td>\n",
       "      <td>Regular</td>\n",
       "    </tr>\n",
       "    <tr>\n",
       "      <th>763</th>\n",
       "      <td>154541</td>\n",
       "      <td>Oceano</td>\n",
       "      <td>204900.0</td>\n",
       "      <td>2</td>\n",
       "      <td>1</td>\n",
       "      <td>992</td>\n",
       "      <td>206.55</td>\n",
       "      <td>Short Sale</td>\n",
       "    </tr>\n",
       "    <tr>\n",
       "      <th>764</th>\n",
       "      <td>154546</td>\n",
       "      <td>Atascadero</td>\n",
       "      <td>355000.0</td>\n",
       "      <td>3</td>\n",
       "      <td>2</td>\n",
       "      <td>1737</td>\n",
       "      <td>204.38</td>\n",
       "      <td>Regular</td>\n",
       "    </tr>\n",
       "    <tr>\n",
       "      <th>765</th>\n",
       "      <td>154547</td>\n",
       "      <td>Out Of Area</td>\n",
       "      <td>134900.0</td>\n",
       "      <td>3</td>\n",
       "      <td>3</td>\n",
       "      <td>1435</td>\n",
       "      <td>94.01</td>\n",
       "      <td>Regular</td>\n",
       "    </tr>\n",
       "    <tr>\n",
       "      <th>766</th>\n",
       "      <td>154548</td>\n",
       "      <td>Santa Maria-Orcutt</td>\n",
       "      <td>199900.0</td>\n",
       "      <td>5</td>\n",
       "      <td>3</td>\n",
       "      <td>1671</td>\n",
       "      <td>119.63</td>\n",
       "      <td>Short Sale</td>\n",
       "    </tr>\n",
       "    <tr>\n",
       "      <th>767</th>\n",
       "      <td>154550</td>\n",
       "      <td>Santa Maria-Orcutt</td>\n",
       "      <td>349900.0</td>\n",
       "      <td>4</td>\n",
       "      <td>3</td>\n",
       "      <td>2800</td>\n",
       "      <td>124.96</td>\n",
       "      <td>Short Sale</td>\n",
       "    </tr>\n",
       "    <tr>\n",
       "      <th>768</th>\n",
       "      <td>154553</td>\n",
       "      <td>Santa Maria-Orcutt</td>\n",
       "      <td>99000.0</td>\n",
       "      <td>2</td>\n",
       "      <td>2</td>\n",
       "      <td>900</td>\n",
       "      <td>110.00</td>\n",
       "      <td>Foreclosure</td>\n",
       "    </tr>\n",
       "    <tr>\n",
       "      <th>769</th>\n",
       "      <td>154554</td>\n",
       "      <td>Coalinga</td>\n",
       "      <td>409000.0</td>\n",
       "      <td>4</td>\n",
       "      <td>3</td>\n",
       "      <td>2507</td>\n",
       "      <td>163.14</td>\n",
       "      <td>Short Sale</td>\n",
       "    </tr>\n",
       "    <tr>\n",
       "      <th>770</th>\n",
       "      <td>154556</td>\n",
       "      <td>Pismo Beach</td>\n",
       "      <td>339000.0</td>\n",
       "      <td>2</td>\n",
       "      <td>2</td>\n",
       "      <td>1440</td>\n",
       "      <td>235.42</td>\n",
       "      <td>Regular</td>\n",
       "    </tr>\n",
       "    <tr>\n",
       "      <th>771</th>\n",
       "      <td>154557</td>\n",
       "      <td>San Miguel</td>\n",
       "      <td>595000.0</td>\n",
       "      <td>3</td>\n",
       "      <td>3</td>\n",
       "      <td>2238</td>\n",
       "      <td>265.86</td>\n",
       "      <td>Regular</td>\n",
       "    </tr>\n",
       "    <tr>\n",
       "      <th>772</th>\n",
       "      <td>154558</td>\n",
       "      <td>Pismo Beach</td>\n",
       "      <td>849500.0</td>\n",
       "      <td>3</td>\n",
       "      <td>3</td>\n",
       "      <td>2725</td>\n",
       "      <td>311.74</td>\n",
       "      <td>Regular</td>\n",
       "    </tr>\n",
       "    <tr>\n",
       "      <th>773</th>\n",
       "      <td>154559</td>\n",
       "      <td>Paso Robles</td>\n",
       "      <td>399000.0</td>\n",
       "      <td>2</td>\n",
       "      <td>3</td>\n",
       "      <td>1772</td>\n",
       "      <td>225.17</td>\n",
       "      <td>Regular</td>\n",
       "    </tr>\n",
       "    <tr>\n",
       "      <th>774</th>\n",
       "      <td>154560</td>\n",
       "      <td>Paso Robles</td>\n",
       "      <td>399000.0</td>\n",
       "      <td>4</td>\n",
       "      <td>2</td>\n",
       "      <td>1947</td>\n",
       "      <td>204.93</td>\n",
       "      <td>Regular</td>\n",
       "    </tr>\n",
       "    <tr>\n",
       "      <th>775</th>\n",
       "      <td>154561</td>\n",
       "      <td>Solvang</td>\n",
       "      <td>525000.0</td>\n",
       "      <td>3</td>\n",
       "      <td>2</td>\n",
       "      <td>1720</td>\n",
       "      <td>305.23</td>\n",
       "      <td>Regular</td>\n",
       "    </tr>\n",
       "    <tr>\n",
       "      <th>776</th>\n",
       "      <td>154562</td>\n",
       "      <td>Paso Robles</td>\n",
       "      <td>319900.0</td>\n",
       "      <td>3</td>\n",
       "      <td>3</td>\n",
       "      <td>1605</td>\n",
       "      <td>199.31</td>\n",
       "      <td>Regular</td>\n",
       "    </tr>\n",
       "    <tr>\n",
       "      <th>777</th>\n",
       "      <td>154565</td>\n",
       "      <td>Paso Robles</td>\n",
       "      <td>495000.0</td>\n",
       "      <td>3</td>\n",
       "      <td>2</td>\n",
       "      <td>1877</td>\n",
       "      <td>263.72</td>\n",
       "      <td>Regular</td>\n",
       "    </tr>\n",
       "    <tr>\n",
       "      <th>778</th>\n",
       "      <td>154566</td>\n",
       "      <td>San Luis Obispo</td>\n",
       "      <td>372000.0</td>\n",
       "      <td>3</td>\n",
       "      <td>2</td>\n",
       "      <td>1104</td>\n",
       "      <td>336.96</td>\n",
       "      <td>Foreclosure</td>\n",
       "    </tr>\n",
       "    <tr>\n",
       "      <th>779</th>\n",
       "      <td>154575</td>\n",
       "      <td>Arroyo Grande</td>\n",
       "      <td>589000.0</td>\n",
       "      <td>3</td>\n",
       "      <td>2</td>\n",
       "      <td>1975</td>\n",
       "      <td>298.23</td>\n",
       "      <td>Regular</td>\n",
       "    </tr>\n",
       "    <tr>\n",
       "      <th>780</th>\n",
       "      <td>154580</td>\n",
       "      <td>Cambria</td>\n",
       "      <td>1100000.0</td>\n",
       "      <td>3</td>\n",
       "      <td>3</td>\n",
       "      <td>2392</td>\n",
       "      <td>459.87</td>\n",
       "      <td>Regular</td>\n",
       "    </tr>\n",
       "  </tbody>\n",
       "</table>\n",
       "<p>781 rows × 8 columns</p>\n",
       "</div>"
      ],
      "text/plain": [
       "        MLS             Location      Price  Bedrooms  Bathrooms  Size  \\\n",
       "0    132842        Arroyo Grande   795000.0         3          3  2371   \n",
       "1    134364          Paso Robles   399000.0         4          3  2818   \n",
       "2    135141          Paso Robles   545000.0         4          3  3032   \n",
       "3    135712            Morro Bay   909000.0         4          4  3540   \n",
       "4    136282   Santa Maria-Orcutt   109900.0         3          1  1249   \n",
       "5    136431               Oceano   324900.0         3          3  1800   \n",
       "6    137036   Santa Maria-Orcutt   192900.0         4          2  1603   \n",
       "7    137090   Santa Maria-Orcutt   215000.0         3          2  1450   \n",
       "8    137159            Morro Bay   999000.0         4          3  3360   \n",
       "9    137570           Atascadero   319000.0         3          2  1323   \n",
       "10   138053   Santa Maria-Orcutt   350000.0         3          2  1750   \n",
       "11   138730   Santa Maria-Orcutt   249000.0         3          2  1400   \n",
       "12   139291        Arroyo Grande   299000.0         2          2  1257   \n",
       "13   139427   Santa Maria-Orcutt   235900.0         3          2  1400   \n",
       "14   139461   Santa Maria-Orcutt   348000.0         3          2  1600   \n",
       "15   139661          Paso Robles   314000.0         4          3  1794   \n",
       "16   139918           Los Alamos   399000.0         4          2  1850   \n",
       "17   139932           San Miguel   599000.0         3          3  2950   \n",
       "18   140044          Paso Robles   299000.0         3          2  1719   \n",
       "19   140073      San Luis Obispo   425000.0         3          3  1472   \n",
       "20   140077            Morro Bay  1100000.0         4          3  4168   \n",
       "21   140080              Cayucos  1500000.0         3          3  3880   \n",
       "22   140113   Santa Maria-Orcutt   110000.0         2          1  1000   \n",
       "23   140395   Santa Maria-Orcutt   200000.0         3          2  1139   \n",
       "24   140460   Santa Maria-Orcutt   134900.0         3          1  1080   \n",
       "25   140703   Santa Maria-Orcutt   250000.0         4          3  2000   \n",
       "26   140720          Pismo Beach   950000.0         3          4  1920   \n",
       "27   140731   Santa Maria-Orcutt   239950.0         4          2  1348   \n",
       "28   141188   Santa Maria-Orcutt   170000.0         3          2  1280   \n",
       "29   141212   Santa Maria-Orcutt   285000.0         3          2  2400   \n",
       "..      ...                  ...        ...       ...        ...   ...   \n",
       "751  154523        Arroyo Grande   509000.0         3          2  1543   \n",
       "752  154525          Paso Robles   214900.0         2          2  1351   \n",
       "753  154526        Arroyo Grande  5499000.0         4          5  5060   \n",
       "754  154528   Santa Maria-Orcutt   349900.0         3          2  2000   \n",
       "755  154530              Solvang   125000.0         2          2  1536   \n",
       "756  154531              Cambria   549000.0         2          2   924   \n",
       "757  154532              Cambria   865000.0         3          3  1860   \n",
       "758  154533              Bradley  1600000.0         3          3  2640   \n",
       "759  154534               Nipomo  1065000.0         4          4  3395   \n",
       "760  154536            Templeton   625000.0         3          2  1850   \n",
       "761  154538   Santa Maria-Orcutt   249999.0         3          2  1000   \n",
       "762  154539        Arroyo Grande   975000.0         4          3  2720   \n",
       "763  154541               Oceano   204900.0         2          1   992   \n",
       "764  154546           Atascadero   355000.0         3          2  1737   \n",
       "765  154547          Out Of Area   134900.0         3          3  1435   \n",
       "766  154548   Santa Maria-Orcutt   199900.0         5          3  1671   \n",
       "767  154550   Santa Maria-Orcutt   349900.0         4          3  2800   \n",
       "768  154553   Santa Maria-Orcutt    99000.0         2          2   900   \n",
       "769  154554             Coalinga   409000.0         4          3  2507   \n",
       "770  154556          Pismo Beach   339000.0         2          2  1440   \n",
       "771  154557           San Miguel   595000.0         3          3  2238   \n",
       "772  154558          Pismo Beach   849500.0         3          3  2725   \n",
       "773  154559          Paso Robles   399000.0         2          3  1772   \n",
       "774  154560          Paso Robles   399000.0         4          2  1947   \n",
       "775  154561              Solvang   525000.0         3          2  1720   \n",
       "776  154562          Paso Robles   319900.0         3          3  1605   \n",
       "777  154565          Paso Robles   495000.0         3          2  1877   \n",
       "778  154566      San Luis Obispo   372000.0         3          2  1104   \n",
       "779  154575        Arroyo Grande   589000.0         3          2  1975   \n",
       "780  154580              Cambria  1100000.0         3          3  2392   \n",
       "\n",
       "     Price/SQ.Ft       Status  \n",
       "0         335.30   Short Sale  \n",
       "1         141.59   Short Sale  \n",
       "2         179.75   Short Sale  \n",
       "3         256.78   Short Sale  \n",
       "4          87.99   Short Sale  \n",
       "5         180.50   Short Sale  \n",
       "6         120.34   Short Sale  \n",
       "7         148.28   Short Sale  \n",
       "8         297.32   Short Sale  \n",
       "9         241.12   Short Sale  \n",
       "10        200.00   Short Sale  \n",
       "11        177.86   Short Sale  \n",
       "12        237.87   Short Sale  \n",
       "13        168.50   Short Sale  \n",
       "14        217.50   Short Sale  \n",
       "15        175.03   Short Sale  \n",
       "16        215.68   Short Sale  \n",
       "17        203.05   Short Sale  \n",
       "18        173.94   Short Sale  \n",
       "19        288.72   Short Sale  \n",
       "20        263.92   Short Sale  \n",
       "21        386.60   Short Sale  \n",
       "22        110.00   Short Sale  \n",
       "23        175.59   Short Sale  \n",
       "24        124.91   Short Sale  \n",
       "25        125.00   Short Sale  \n",
       "26        494.79   Short Sale  \n",
       "27        178.00   Short Sale  \n",
       "28        132.81   Short Sale  \n",
       "29        118.75   Short Sale  \n",
       "..           ...          ...  \n",
       "751       329.88      Regular  \n",
       "752       159.07      Regular  \n",
       "753      1086.76      Regular  \n",
       "754       174.95      Regular  \n",
       "755        81.38      Regular  \n",
       "756       594.16   Short Sale  \n",
       "757       465.05      Regular  \n",
       "758       606.06      Regular  \n",
       "759       313.70      Regular  \n",
       "760       337.84  Foreclosure  \n",
       "761       250.00      Regular  \n",
       "762       358.46      Regular  \n",
       "763       206.55   Short Sale  \n",
       "764       204.38      Regular  \n",
       "765        94.01      Regular  \n",
       "766       119.63   Short Sale  \n",
       "767       124.96   Short Sale  \n",
       "768       110.00  Foreclosure  \n",
       "769       163.14   Short Sale  \n",
       "770       235.42      Regular  \n",
       "771       265.86      Regular  \n",
       "772       311.74      Regular  \n",
       "773       225.17      Regular  \n",
       "774       204.93      Regular  \n",
       "775       305.23      Regular  \n",
       "776       199.31      Regular  \n",
       "777       263.72      Regular  \n",
       "778       336.96  Foreclosure  \n",
       "779       298.23      Regular  \n",
       "780       459.87      Regular  \n",
       "\n",
       "[781 rows x 8 columns]"
      ]
     },
     "execution_count": 21,
     "metadata": {},
     "output_type": "execute_result"
    }
   ],
   "source": [
    "import numpy as np\n",
    "import pandas as pd\n",
    "import matplotlib.pyplot as plt\n",
    "from pylab import scatter, show, title, xlabel, ylabel, plot, contour\n",
    "import requests\n",
    "from IPython import display\n",
    "%matplotlib inline\n",
    "#data_url='http://wiki.csc.calpoly.edu/datasets/attachment/wiki/Houses/RealEstate.csv'\n",
    "#data=pd.read_csv(data_url)\\\n",
    "data=pd.read_csv(\"RealEstate.csv\")\n",
    "data"
   ]
  },
  {
   "cell_type": "code",
   "execution_count": 19,
   "metadata": {},
   "outputs": [
    {
     "data": {
      "image/png": "[encoded data removed]",
      "text/plain": [
       "<matplotlib.figure.Figure at 0x1ef843c20f0>"
      ]
     },
     "metadata": {},
     "output_type": "display_data"
    }
   ],
   "source": [
    "x=data['Size']\n",
    "y=data['Price']\n",
    "scatter(x, y, marker='o', c='b')\n",
    "title('Housing price per square feet')\n",
    "xlabel('House Size (Square Feet)')\n",
    "ylabel('Price')\n",
    "show()"
   ]
  },
  {
   "cell_type": "raw",
   "metadata": {},
   "source": [
    "Model Representation\n",
    "\n",
    "The goal of most machine learning algorithms is to construct a model: a hypothesis that can be used to estimate Y based on X. \n",
    "The hypothesis, or model, or a function, maps inputs to outputs. \n",
    "\n",
    "Example of regression problem — given some input, we want to predict a continuous output.\n",
    "The hypothesis is usually presented as"
   ]
  },
  {
   "cell_type": "markdown",
   "metadata": {},
   "source": [
    "<img alt=\"Hypothesis\" src=\"./images/hypothesis.png\" height=\"200\" width=\"200\">\n"
   ]
  },
  {
   "cell_type": "markdown",
   "metadata": {},
   "source": [
    "The theta values are the parameters"
   ]
  },
  {
   "cell_type": "markdown",
   "metadata": {},
   "source": [
    "<img alt=\"Algorithm\" src=\"./images/learningalgorithm.png\" height=\"200\" width=\"200\">\n",
    "<p style=\"text-align:center\">Fig: Learning Algorithm</p>"
   ]
  },
  {
   "cell_type": "code",
   "execution_count": null,
   "metadata": {},
   "outputs": [],
   "source": [
    "def plot_line(slope,intercept,x):\n",
    "    slope=0\n",
    "    intercept=1.5\n",
    "    abline_values = [slope * i + intercept for i in x]\n",
    "    display.clear_output(wait=True)\n",
    "    plt.plot(x, abline_values, 'b')\n",
    "    plt.title(slope)\n",
    "    plt.ylim(ymin=0)\n",
    "    plt.ylim(ymax=10)\n",
    "    plt.show()\n",
    "\n"
   ]
  },
  {
   "cell_type": "code",
   "execution_count": 23,
   "metadata": {},
   "outputs": [
    {
     "data": {
      "text/plain": [
       "array([1, 2, 3, 4])"
      ]
     },
     "execution_count": 23,
     "metadata": {},
     "output_type": "execute_result"
    }
   ],
   "source": [
    "x=np.arange(1,5)\n",
    "x"
   ]
  },
  {
   "cell_type": "markdown",
   "metadata": {},
   "source": [
    "h(x)=0x+1.5"
   ]
  },
  {
   "cell_type": "code",
   "execution_count": 24,
   "metadata": {},
   "outputs": [
    {
     "data": {
      "image/png": "[encoded data removed]",
      "text/plain": [
       "<matplotlib.figure.Figure at 0x1ef8410beb8>"
      ]
     },
     "metadata": {},
     "output_type": "display_data"
    }
   ],
   "source": [
    "slope=0\n",
    "intercept=1.5\n",
    "plot_line(slope,intercept,x)"
   ]
  },
  {
   "cell_type": "markdown",
   "metadata": {},
   "source": [
    "h(x) = 6 + 0.5x"
   ]
  },
  {
   "cell_type": "code",
   "execution_count": 25,
   "metadata": {},
   "outputs": [
    {
     "data": {
      "image/png": "[encoded data removed]",
      "text/plain": [
       "<matplotlib.figure.Figure at 0x1ef855c1780>"
      ]
     },
     "metadata": {},
     "output_type": "display_data"
    }
   ],
   "source": [
    "slope=1\n",
    "intercept=0.5\n",
    "abline_values = [slope * i + intercept for i in x]\n",
    "plt.plot(x, abline_values, 'b')\n",
    "plt.title(slope)\n",
    "plt.ylim(ymin=0)\n",
    "plt.ylim(ymax=10)\n",
    "plt.show()"
   ]
  },
  {
   "cell_type": "markdown",
   "metadata": {},
   "source": [
    "The goal of creating a model is to choose parameters, or theta values, so that h(x) is close to y for the training data, x and y."
   ]
  },
  {
   "cell_type": "markdown",
   "metadata": {},
   "source": [
    "Cost Function\n",
    "Function that minimizes the parameters over our dataset.\n",
    " One such function is mean squared error, which measure the difference between the estimator (the dataset) and the estimated value (the prediction). It looks like this:\n"
   ]
  },
  {
   "cell_type": "markdown",
   "metadata": {},
   "source": [
    "<img alt=\"mse\" src=\"./images/mse.png\" height=\"200\" width=\"200\">"
   ]
  },
  {
   "cell_type": "markdown",
   "metadata": {},
   "source": [
    "<img alt=\"Hypothesiscost\" src=\"./images/hypothesiscost.png\" height=\"200\" width=\"200\">"
   ]
  },
  {
   "cell_type": "markdown",
   "metadata": {},
   "source": [
    "<img alt=\"Hypothesiscosttext\" src=\"./images/hypothesiscosttext.png\" height=\"600\" width=\"400\">"
   ]
  },
  {
   "cell_type": "markdown",
   "metadata": {},
   "source": [
    "For theta0 and theta1, cost function can be rewritten as"
   ]
  },
  {
   "cell_type": "markdown",
   "metadata": {},
   "source": [
    "<img alt=\"costfunction2variables\" src=\"./images/costfunction2.png\" height=\"400\" width=\"400\">"
   ]
  },
  {
   "cell_type": "markdown",
   "metadata": {},
   "source": [
    "<img alt=\"goal\" src=\"./images/goal.png\" height=\"400\" width=\"400\">"
   ]
  },
  {
   "cell_type": "code",
   "execution_count": 29,
   "metadata": {},
   "outputs": [],
   "source": [
    "def compute_cost_function(m, t0, t1, x, y):\n",
    "    total=0\n",
    "    for i in range(m):\n",
    "        total=total+(t0+t1*np.asarray([x[i]])-y[i])**2\n",
    "    cost=1/(2*m) * total\n",
    "    return cost"
   ]
  },
  {
   "cell_type": "code",
   "execution_count": null,
   "metadata": {},
   "outputs": [],
   "source": []
  },
  {
   "cell_type": "markdown",
   "metadata": {},
   "source": [
    "# If t0=0 then h(x)=t1x\n",
    "such line would be as follows\n"
   ]
  },
  {
   "cell_type": "code",
   "execution_count": 26,
   "metadata": {},
   "outputs": [
    {
     "data": {
      "image/png": "[encoded data removed]",
      "text/plain": [
       "<matplotlib.figure.Figure at 0x1ef855eb128>"
      ]
     },
     "metadata": {},
     "output_type": "display_data"
    }
   ],
   "source": [
    "#Our Dataset\n",
    "x=np.arange(1,5)\n",
    "y=np.arange(1,5)\n",
    "slope=1\n",
    "intercept=0\n",
    "abline_values = [slope * i + intercept for i in x]\n",
    "plt.plot(x, abline_values, 'ro')\n",
    "plt.plot(x, abline_values, 'b')\n",
    "plt.title(slope)\n",
    "plt.axis([0, 5, 0, 5])\n",
    "plt.show()\n"
   ]
  },
  {
   "cell_type": "markdown",
   "metadata": {},
   "source": [
    "Lets say for given value of t0 and t1 we get red dots like above\n",
    "Error is given by J which would be calculated from root mean squre error function"
   ]
  },
  {
   "cell_type": "code",
   "execution_count": null,
   "metadata": {},
   "outputs": [],
   "source": [
    "J=compute_cost_function(len(x),intercept,slope,x,y)\n",
    "J"
   ]
  },
  {
   "cell_type": "markdown",
   "metadata": {},
   "source": [
    "if our hypothesis is a different line i.e we have different value of t0 and t1 then we will definitely have some errors\n"
   ]
  },
  {
   "cell_type": "code",
   "execution_count": 27,
   "metadata": {},
   "outputs": [
    {
     "data": {
      "image/png": "[encoded data removed]",
      "text/plain": [
       "<matplotlib.figure.Figure at 0x1ef8565f0f0>"
      ]
     },
     "metadata": {},
     "output_type": "display_data"
    }
   ],
   "source": [
    "predicted_data=[]\n",
    "x=np.arange(1,5)\n",
    "y=np.arange(1,5)\n",
    "slope=0\n",
    "intercept=0\n",
    "abline_values = [slope * i + intercept for i in x]\n",
    "plt.plot(x, y, 'ro')\n",
    "plt.plot(x, abline_values, 'b')\n",
    "plt.title(slope)\n",
    "plt.axis([0, 5, 0, 5])\n",
    "plt.show()"
   ]
  },
  {
   "cell_type": "code",
   "execution_count": 30,
   "metadata": {},
   "outputs": [
    {
     "data": {
      "text/plain": [
       "array([3.75])"
      ]
     },
     "execution_count": 30,
     "metadata": {},
     "output_type": "execute_result"
    }
   ],
   "source": [
    "J=compute_cost_function(len(x),intercept,slope,x,y)\n",
    "J"
   ]
  },
  {
   "cell_type": "code",
   "execution_count": 31,
   "metadata": {},
   "outputs": [
    {
     "data": {
      "image/png": "[encoded data removed]",
      "text/plain": [
       "<matplotlib.figure.Figure at 0x1ef855c8b70>"
      ]
     },
     "metadata": {},
     "output_type": "display_data"
    }
   ],
   "source": [
    "slope=[-5,-1.5,-1,-0.5,0,0.5,1,1.5,5,3]\n",
    "j_values=[]\n",
    "for slopeval in slope:\n",
    "    j_values.append(compute_cost_function(len(x),0,slopeval,x,y)[0])\n",
    "plt.plot(slope, j_values, 'b')\n",
    "plt.plot(slope, j_values, 'ro')\n",
    "plt.title('J vs t1')\n",
    "xlabel('t1')\n",
    "ylabel('J(t1)')\n",
    "plt.axis([0, 5, 0, 5])\n",
    "plt.show()"
   ]
  },
  {
   "cell_type": "markdown",
   "metadata": {},
   "source": [
    "If t0 and t1 is not eqaul to 0 then for a line with slope and intercept the contour plot looks like below"
   ]
  },
  {
   "cell_type": "markdown",
   "metadata": {},
   "source": [
    "<img alt=\"contour1\" src=\"./images/contour1.png\" height=\"600\" width=\"600\">"
   ]
  },
  {
   "cell_type": "code",
   "execution_count": null,
   "metadata": {},
   "outputs": [],
   "source": [
    "The surface plot looks like this "
   ]
  },
  {
   "cell_type": "markdown",
   "metadata": {},
   "source": [
    "<img alt=\"surfaceplot\" src=\"./images/surfaceplot.png\" height=\"400\" width=\"400\">"
   ]
  },
  {
   "cell_type": "markdown",
   "metadata": {},
   "source": [
    "The algorithm of gradient descent looks like this"
   ]
  },
  {
   "cell_type": "markdown",
   "metadata": {},
   "source": [
    "<img alt=\"algorithm\" src=\"./images/gdalgorithm.png\" height=\"400\" width=\"400\">"
   ]
  },
  {
   "cell_type": "markdown",
   "metadata": {},
   "source": [
    "<img alt=\"gd\" src=\"./images/gd.png\" height=\"400\" width=\"400\">"
   ]
  },
  {
   "cell_type": "markdown",
   "metadata": {},
   "source": [
    "<img alt=\"gd3\" src=\"./images/gd3.png\" height=\"400\" width=\"400\">\n",
    "<p style=\"text-align:center\">Fig: Gradient descent to local minimum</p>"
   ]
  },
  {
   "cell_type": "markdown",
   "metadata": {},
   "source": [
    "Gradient Descent Algrithm"
   ]
  },
  {
   "cell_type": "markdown",
   "metadata": {},
   "source": [
    "Gradient Descent basically just does what we were doing by hand — change the theta values, or parameters, bit by bit, until we hopefully arrived a minimum. We start by initializing theta0 and theta1 to any two values, say 0 for both, and go from there\n"
   ]
  },
  {
   "cell_type": "markdown",
   "metadata": {},
   "source": [
    "Simultaneously repeat until convergence \n",
    "{"
   ]
  },
  {
   "cell_type": "markdown",
   "metadata": {},
   "source": [
    "<img alt=\"gd1\" src=\"./images/gd1.png\" height=\"400\" width=\"400\">"
   ]
  },
  {
   "cell_type": "markdown",
   "metadata": {},
   "source": [
    "}"
   ]
  },
  {
   "cell_type": "markdown",
   "metadata": {},
   "source": [
    "where α, alpha, is the learning rate, or how quickly we want to move towards the minimum. If α is too large, however, we can overshoot.\n",
    "After taking derivative the equation and linear regression algorithm becomes\n"
   ]
  },
  {
   "cell_type": "markdown",
   "metadata": {},
   "source": [
    "Simultaneously repeat until convergence {"
   ]
  },
  {
   "cell_type": "markdown",
   "metadata": {},
   "source": [
    "<img alt=\"gd2\" src=\"./images/gd2.png\" height=\"400\" width=\"400\">"
   ]
  },
  {
   "cell_type": "markdown",
   "metadata": {},
   "source": [
    "}"
   ]
  },
  {
   "cell_type": "markdown",
   "metadata": {},
   "source": [
    "For two variables:"
   ]
  },
  {
   "cell_type": "markdown",
   "metadata": {},
   "source": [
    "<img alt=\"gd4\" src=\"./images/gd4.png\" height=\"400\" width=\"400\">"
   ]
  },
  {
   "cell_type": "code",
   "execution_count": null,
   "metadata": {},
   "outputs": [],
   "source": [
    "def gradient_descent(alpha, x, y, ep=0.0001, max_iter=1500):\n",
    "    '''This can be improved by using matrix multiplication'''\n",
    "    # initial theta'\n",
    "    t0 = 0\n",
    "    t1 = 0\n",
    "    iter = 0\n",
    "    converged=False\n",
    "    m=len(x)\n",
    "    total_grad0=0\n",
    "    total_grad1=0\n",
    "    cost_functions=[]\n",
    "    theta_ones=[]\n",
    "    theta_nots=[]\n",
    "    while not converged:\n",
    "        for i in range(m):\n",
    "            total_grad0=total_grad0+(t0+t1*np.asarray([x[i]])-y[i])\n",
    "            total_grad1=total_grad1+(t0+t1*np.asarray([x[i]])-y[i])*np.asarray([x[i]])\n",
    "        grad0 = 1.0/m * total_grad0 \n",
    "        grad1 = 1.0/m * total_grad1\n",
    "        # update the theta_temp\n",
    "        temp0 = t0 - alpha * grad0\n",
    "        temp1 = t1 - alpha * grad1\n",
    "        theta_ones.append(temp1)\n",
    "        theta_nots.append(temp0)\n",
    "        # update theta\n",
    "        t0 = temp0\n",
    "        t1 = temp1\n",
    "\n",
    "        # mean squared error\n",
    "        e = compute_cost_function(m, t0, t1, x, y)\n",
    "        #print ('J = ', e)\n",
    "        cost_functions.append(e)\n",
    "        J = e   # update error \n",
    "        iter += 1  # update iter\n",
    "        if iter == max_iter:\n",
    "            print ('Max interactions exceeded!')\n",
    "            converged = True\n",
    "\n",
    "    return t0,t1,cost_functions,theta_nots,theta_ones"
   ]
  }
 ],
 "metadata": {
  "kernelspec": {
   "display_name": "Python 3",
   "language": "python",
   "name": "python3"
  },
  "language_info": {
   "codemirror_mode": {
    "name": "ipython",
    "version": 3
   },
   "file_extension": ".py",
   "mimetype": "text/x-python",
   "name": "python",
   "nbconvert_exporter": "python",
   "pygments_lexer": "ipython3",
   "version": "3.6.4"
  }
 },
 "nbformat": 4,
 "nbformat_minor": 2
}
