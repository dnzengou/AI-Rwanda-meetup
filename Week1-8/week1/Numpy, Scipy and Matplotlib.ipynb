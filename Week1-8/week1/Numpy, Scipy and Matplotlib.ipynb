{
 "cells": [
  {
   "cell_type": "markdown",
   "metadata": {},
   "source": [
    "# Numpy, Scipy and Matplotlib\n",
    "\n",
    "## [CS231n](http://cs231n.github.io/)\n",
    "\n",
    "### [Numpy: We follow the tutorial by Andrej Karparthy](http://cs231n.github.io/python-numpy-tutorial/#numpy)\n",
    "\n",
    "- [NumPy](http://www.numpy.org/) is the fundamental package for scientific computing with Python. It contains among other things:\n",
    "    - a powerful N-dimensional array object\n",
    "    - sophisticated (broadcasting) functions\n",
    "    - tools for integrating C/C++ and Fortran code\n",
    "    - useful linear algebra, Fourier transform, and random number capabilities\n",
    "\n",
    "### [Scipy:CS231n](http://cs231n.github.io/python-numpy-tutorial/#scipy)\n",
    "\n",
    "- The [SciPy](https://www.scipy.org/scipylib/index.html) library is one of the core packages that make up the SciPy stack. It provides many user-friendly and efficient numerical routines such as routines for numerical integration and optimization.\n",
    "\n",
    "### [Matplotlib: CS231n](http://cs231n.github.io/python-numpy-tutorial/#matplotlib)\n",
    "\n",
    "- [Matplotlib](https://matplotlib.org/) is a Python 2D plotting library which produces publication quality figures in a variety of hardcopy formats and interactive environments across platforms. Matplotlib can be used in Python scripts, the Python and IPython shells, the Jupyter notebook, web application servers, and four graphical user interface toolkits."
   ]
  }
 ],
 "metadata": {
  "kernelspec": {
   "display_name": "Python 3",
   "language": "python",
   "name": "python3"
  },
  "language_info": {
   "codemirror_mode": {
    "name": "ipython",
    "version": 3
   },
   "file_extension": ".py",
   "mimetype": "text/x-python",
   "name": "python",
   "nbconvert_exporter": "python",
   "pygments_lexer": "ipython3",
   "version": "3.6.5"
  }
 },
 "nbformat": 4,
 "nbformat_minor": 1
}
