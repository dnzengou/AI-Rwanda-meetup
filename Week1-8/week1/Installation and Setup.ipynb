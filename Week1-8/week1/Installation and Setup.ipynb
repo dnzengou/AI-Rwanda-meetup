{
 "cells": [
  {
   "cell_type": "markdown",
   "metadata": {},
   "source": [
    "```\n",
    "Author: Ashish Sharma\n",
    "AI Saturdays: Week 1\n",
    "AI Developers Boise\n",
    "Date: May 12, 2018\n",
    "\n",
    "```\n",
    "\n",
    "# Week 1: Agenda \n",
    "\n",
    "- Beginner's level tutorial on Python - Kenny/Ashish\n",
    "- Environment setup for python data science stack:  Miniconda, Conda, NumPy, SciPy and Jupyter Notebooks - Ashish\n",
    "- Overview of ML libraries: scikit-learn and Tensorflow exploration - Ashish\n",
    "- Group formation for project (we will start discussion and group project exploration in the next workshop)"
   ]
  },
  {
   "cell_type": "markdown",
   "metadata": {},
   "source": [
    "# Python Installation and Environment Setup"
   ]
  },
  {
   "cell_type": "markdown",
   "metadata": {},
   "source": [
    "### Miniconda \n",
    "- A free minimal installer for conda. Miniconda is a small, bootstrap version of Anaconda that includes only conda, Python, the packages they depend on and a small number of other useful packages, including pip, zlib and a few others. Use the conda install command to install 720+ additional conda packages from the Anaconda repository.\n",
    "\n",
    "[Install Miniconda](https://conda.io/miniconda.html)"
   ]
  },
  {
   "cell_type": "markdown",
   "metadata": {},
   "source": [
    "### Conda\n",
    "\n",
    "- Conda is an open source package management system and environment management system \n",
    "\n",
    "[Install Conda](https://conda.io/docs/user-guide/install/index.html)\n",
    "\n",
    "[Conda Cheatsheet](https://conda.io/docs/user-guide/cheatsheet.html)"
   ]
  },
  {
   "cell_type": "markdown",
   "metadata": {},
   "source": [
    "### After installation\n",
    "\n",
    "1. Create a new environment:\n",
    "    - `conda create -n your_env_name python=3.6 jupyter`\n",
    "\n",
    "2. Activate the environment\n",
    "    - `source activate your_env_name`\n",
    "    \n",
    "\n",
    "After that, run the command $`jupyter notebook` command within your environment!    "
   ]
  },
  {
   "cell_type": "code",
   "execution_count": null,
   "metadata": {
    "collapsed": true
   },
   "outputs": [],
   "source": [
    "%%bash\n",
    "conda --help"
   ]
  },
  {
   "cell_type": "code",
   "execution_count": null,
   "metadata": {
    "collapsed": true
   },
   "outputs": [],
   "source": [
    "%%bash\n",
    "conda list"
   ]
  },
  {
   "cell_type": "code",
   "execution_count": null,
   "metadata": {
    "collapsed": true
   },
   "outputs": [],
   "source": [
    "%%bash\n",
    "which python"
   ]
  },
  {
   "cell_type": "code",
   "execution_count": null,
   "metadata": {
    "collapsed": true
   },
   "outputs": [],
   "source": [
    "%%bash\n",
    "conda info"
   ]
  },
  {
   "cell_type": "code",
   "execution_count": null,
   "metadata": {
    "collapsed": true
   },
   "outputs": [],
   "source": [
    "%%bash\n",
    "conda info --envs"
   ]
  },
  {
   "cell_type": "markdown",
   "metadata": {},
   "source": [
    "#### Finally after you are done working in this environment, deactivate:\n",
    "    - `source deactivate`"
   ]
  }
 ],
 "metadata": {
  "kernelspec": {
   "display_name": "Python 3",
   "language": "python",
   "name": "python3"
  },
  "language_info": {
   "codemirror_mode": {
    "name": "ipython",
    "version": 3
   },
   "file_extension": ".py",
   "mimetype": "text/x-python",
   "name": "python",
   "nbconvert_exporter": "python",
   "pygments_lexer": "ipython3",
   "version": "3.5.2"
  }
 },
 "nbformat": 4,
 "nbformat_minor": 1
}
