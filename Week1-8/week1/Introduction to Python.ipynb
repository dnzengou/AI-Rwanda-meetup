{
 "cells": [
  {
   "cell_type": "markdown",
   "metadata": {},
   "source": [
    "# Python 101"
   ]
  },
  {
   "cell_type": "markdown",
   "metadata": {},
   "source": [
    "**Prepared By:**\n",
    "```\n",
    "Ashish Sharma\n",
    "\n",
    "Email: accssharma@gmail.com\n",
    "```\n",
    "# References\n",
    "- [0] [Preliminary Reading](https://docs.google.com/document/d/1jMcvpPM5a2NV-fWrqwHgdjxeB2UUSkDdvpWSUhGhI7s/edit?usp=sharing)\n",
    "- [1] [Python Overview](http://python-history.blogspot.com/2009/01/introduction-and-overview.html)\n",
    "- [2] [Python for Data Science](https://data36.com/python-for-data-science-python-basics-1/)\n",
    "- [3] [Mutable and Immutable Data Structures](https://medium.com/@meghamohan/mutable-and-immutable-side-of-python-c2145cf72747)\n",
    "- [4] [Official Python Documentation](https://docs.python.org/3/tutorial/index.html)\n",
    "- [CS231N course python tutorial](http://cs231n.github.io/python-numpy-tutorial/#python)\n",
    "\n",
    "\n",
    "# Introduction to Python\n",
    "\n",
    "**\"Today, Python is used for everything from throw-away scripts to large scalable web servers that provide uninterrupted service 24x7. It is used for GUI and database programming, client- and server-side web programming, and application testing. It is used by scientists writing applications for the world's fastest supercomputers and by children first learning to program.\"** [1]\n",
    "\n",
    "~ *Guido van Rossum, Creator of Python*"
   ]
  },
  {
   "cell_type": "markdown",
   "metadata": {},
   "source": [
    "`Python is a programming language that lets you work quickly and integrate systems more effectively.`\n",
    "\n",
    "`Python is a general purpose programming language and it’s not only for Data Science. This means, that you don’t have to learn every part of it to be a great data scientist. `\n",
    "\n",
    "`Python is a high-level language. It means that in terms of CPU-time it’s not the most effective language on the planet. But on the other hand it was made to be simple, “user-friendly” and easy to interpret. thus what you might lose on CPU-time, you might win back on engineering time.`"
   ]
  },
  {
   "cell_type": "markdown",
   "metadata": {},
   "source": [
    "- Python has been there since 1991, active open-source community.\n",
    "- Python is fairly easy to interpret and learn.\n",
    "- Python handles different data structures very well.\n",
    "- Python has very powerful statistical and data visualization libraries eg. numpy, scipy, pandas, etc.\n",
    "- Python has many package as suitable for simpler Analytics projects (eg. simple statistical analysis, exploratory data analysis, etc.) as advanced Data Science projects (eg. building machine learning models)\n",
    "- Python has a simple but effective approach to object-oriented programming. \n",
    "- Python has elegant syntax, dynamic typing and is interpreted nature.\n",
    "- Interactive: Read, Evaluate, Print, Loop (REPL)\n",
    "- Ideal language for scripting and rapid application development in many areas on most platforms.\n",
    "\n",
    "`The Python interpreter and the extensive standard library are freely available in source or binary form for all major platforms and may be freely distributed. `"
   ]
  },
  {
   "cell_type": "code",
   "execution_count": null,
   "metadata": {},
   "outputs": [],
   "source": [
    "import sys\n",
    "help(sys)"
   ]
  },
  {
   "cell_type": "code",
   "execution_count": null,
   "metadata": {
    "scrolled": true
   },
   "outputs": [],
   "source": [
    "help(help)"
   ]
  },
  {
   "cell_type": "markdown",
   "metadata": {},
   "source": [
    "## Python vs C, Java, etc."
   ]
  },
  {
   "cell_type": "markdown",
   "metadata": {},
   "source": [
    "### Python is elegant to write (has brace-less syntax ;))\n",
    "\n",
    "### C\n",
    "```\n",
    "if (a < b) {\n",
    "    max = b;\n",
    "} else {\n",
    "    max = a;\n",
    "}\n",
    "```\n",
    "\n",
    "### Python\n",
    "```\n",
    "if a < b:\n",
    "    max = b\n",
    "else:\n",
    "    max = a\n",
    "```"
   ]
  },
  {
   "cell_type": "markdown",
   "metadata": {},
   "source": [
    "### Python is a dynamically typed language\n",
    "\n",
    "In C, variables must always be explicitly declared (eg. specify type such as int or double) which is then used to perform static compile-time checks of the program as well as for allocating memory locations used for storing the variable’s value. \n",
    "\n",
    "In Python, variables are simply names that refer to objects. Variables do not need to be declared before they are assigned and they can even change type in the middle of a program. [1]"
   ]
  },
  {
   "cell_type": "code",
   "execution_count": null,
   "metadata": {},
   "outputs": [],
   "source": [
    "help(id)"
   ]
  },
  {
   "cell_type": "code",
   "execution_count": null,
   "metadata": {},
   "outputs": [],
   "source": [
    "id(2)"
   ]
  },
  {
   "cell_type": "code",
   "execution_count": null,
   "metadata": {},
   "outputs": [],
   "source": [
    "# Everything is object in Python\n",
    "x = 2\n",
    "print (x)\n",
    "print (id (x))\n",
    "type(x)"
   ]
  },
  {
   "cell_type": "code",
   "execution_count": null,
   "metadata": {},
   "outputs": [],
   "source": [
    "x = \"AI is cool\"\n",
    "print (x)\n",
    "print(id (x))\n",
    "type (x)"
   ]
  },
  {
   "cell_type": "code",
   "execution_count": null,
   "metadata": {},
   "outputs": [],
   "source": [
    "y = 2\n",
    "id(y)"
   ]
  },
  {
   "cell_type": "code",
   "execution_count": null,
   "metadata": {},
   "outputs": [],
   "source": [
    "# Functions in python is also object\n",
    "def hey_function():\n",
    "    '''I am a doc string of hey_function(). I am a value of an attribute of a function object'''\n",
    "    print (\"Printing from hey_function()!\")"
   ]
  },
  {
   "cell_type": "code",
   "execution_count": null,
   "metadata": {},
   "outputs": [],
   "source": [
    "# function call - calls an Callable Object in Python\n",
    "hey_function()"
   ]
  },
  {
   "cell_type": "code",
   "execution_count": null,
   "metadata": {},
   "outputs": [],
   "source": [
    "hey_function"
   ]
  },
  {
   "cell_type": "code",
   "execution_count": null,
   "metadata": {},
   "outputs": [],
   "source": [
    "type(hey_function)"
   ]
  },
  {
   "cell_type": "code",
   "execution_count": null,
   "metadata": {},
   "outputs": [],
   "source": [
    "# attribute of a function object\n",
    "hey_function.__doc__"
   ]
  },
  {
   "cell_type": "markdown",
   "metadata": {},
   "source": [
    "## Mutable and Immutable Object types [3]\n",
    "\n",
    "**Mutable objects:**\n",
    "list, dict, set\n",
    "\n",
    "**Immutable objects**\n",
    "int, float, complex, string, tuple, frozen set [note: immutable version of set], bytes"
   ]
  },
  {
   "cell_type": "markdown",
   "metadata": {},
   "source": [
    "Immutable Example 1"
   ]
  },
  {
   "cell_type": "code",
   "execution_count": null,
   "metadata": {},
   "outputs": [],
   "source": [
    "id()\"ashish\")"
   ]
  },
  {
   "cell_type": "code",
   "execution_count": null,
   "metadata": {},
   "outputs": [],
   "source": [
    "x = \"ashish\"\n",
    "y = \"ashish\""
   ]
  },
  {
   "cell_type": "code",
   "execution_count": null,
   "metadata": {},
   "outputs": [],
   "source": [
    "type(x)"
   ]
  },
  {
   "cell_type": "code",
   "execution_count": null,
   "metadata": {},
   "outputs": [],
   "source": [
    "id(x)"
   ]
  },
  {
   "cell_type": "code",
   "execution_count": null,
   "metadata": {},
   "outputs": [],
   "source": [
    "id(y)"
   ]
  },
  {
   "cell_type": "code",
   "execution_count": null,
   "metadata": {},
   "outputs": [],
   "source": [
    "x == y"
   ]
  },
  {
   "cell_type": "code",
   "execution_count": null,
   "metadata": {},
   "outputs": [],
   "source": [
    "x is y # or id(x) == id(y)"
   ]
  },
  {
   "cell_type": "markdown",
   "metadata": {},
   "source": [
    "Immutable Example 2"
   ]
  },
  {
   "cell_type": "code",
   "execution_count": null,
   "metadata": {},
   "outputs": [],
   "source": [
    "id(2)"
   ]
  },
  {
   "cell_type": "code",
   "execution_count": null,
   "metadata": {},
   "outputs": [],
   "source": [
    "# We are creating a single integer object type 2\n",
    "# identifier A is tagged to the integer object\n",
    "# another B identifier is tagged to the same integer object via A\n",
    "A = 2\n",
    "B = 2"
   ]
  },
  {
   "cell_type": "code",
   "execution_count": null,
   "metadata": {},
   "outputs": [],
   "source": [
    "type(A)"
   ]
  },
  {
   "cell_type": "code",
   "execution_count": null,
   "metadata": {},
   "outputs": [],
   "source": [
    "help(id)"
   ]
  },
  {
   "cell_type": "code",
   "execution_count": null,
   "metadata": {},
   "outputs": [],
   "source": [
    "id(A)"
   ]
  },
  {
   "cell_type": "code",
   "execution_count": null,
   "metadata": {},
   "outputs": [],
   "source": [
    "id(B)"
   ]
  },
  {
   "cell_type": "code",
   "execution_count": null,
   "metadata": {},
   "outputs": [],
   "source": [
    "A == B # Do A and B have same values?"
   ]
  },
  {
   "cell_type": "code",
   "execution_count": null,
   "metadata": {},
   "outputs": [],
   "source": [
    "A is B # or id(A) == id(B) # Are the A and B the same object?"
   ]
  },
  {
   "cell_type": "code",
   "execution_count": null,
   "metadata": {},
   "outputs": [],
   "source": [
    "id(B) is id(A) # Are identity of object A and identiy of object B the same object?"
   ]
  },
  {
   "cell_type": "code",
   "execution_count": null,
   "metadata": {},
   "outputs": [],
   "source": [
    "isinstance(A, int)"
   ]
  },
  {
   "cell_type": "code",
   "execution_count": null,
   "metadata": {},
   "outputs": [],
   "source": [
    "id(2.0)"
   ]
  },
  {
   "cell_type": "markdown",
   "metadata": {},
   "source": [
    "Mutable Objects Example 1"
   ]
  },
  {
   "cell_type": "code",
   "execution_count": null,
   "metadata": {},
   "outputs": [],
   "source": [
    "A_list = list([1, 2, 3])\n",
    "B_list = A_list\n",
    "\n",
    "# We are creating a single object type (list([1,2,3]))\n",
    "# identifier A_list is tagged to the list object\n",
    "# another B_list identifier is tagged to the same object via A_list"
   ]
  },
  {
   "cell_type": "code",
   "execution_count": null,
   "metadata": {},
   "outputs": [],
   "source": [
    "id(A_list) == id(B_list)"
   ]
  },
  {
   "cell_type": "code",
   "execution_count": null,
   "metadata": {},
   "outputs": [],
   "source": [
    "A_list is B_list"
   ]
  },
  {
   "cell_type": "code",
   "execution_count": null,
   "metadata": {},
   "outputs": [],
   "source": [
    "A_list.pop()"
   ]
  },
  {
   "cell_type": "code",
   "execution_count": null,
   "metadata": {},
   "outputs": [],
   "source": [
    "A_list"
   ]
  },
  {
   "cell_type": "code",
   "execution_count": null,
   "metadata": {},
   "outputs": [],
   "source": [
    "id(A_list) == id(B_list)"
   ]
  },
  {
   "cell_type": "code",
   "execution_count": null,
   "metadata": {},
   "outputs": [],
   "source": [
    "A_list is B_list"
   ]
  },
  {
   "cell_type": "markdown",
   "metadata": {},
   "source": [
    "## Python Implementation\n",
    "- Python is typically implemented using a combination of a bytecode compiler and interpreter. \n",
    "- Compilation is implicitly performed as modules are loaded, and several language primitives require the compiler to be available at run-time. \n",
    "\n",
    "\n",
    "## Other implementations\n",
    "- CPython - de-facto Python implementation and widely adopted\n",
    "- PyPy - JIT compilation (optimizing Python compiler/interpreter written in Python) \n",
    "- Jython (seamless Java integration)\n",
    "- IronPython - IronPython is an implementation of the Python programming language targeting the .NET Framework and Mono.\n",
    "- Stackless Python (variant of the C implementation - reduces reliance on the C stack for function/method calls, to allow co-routines, continuations, and microthreads)\n",
    "\n",
    "### Cpython vs Cython\n",
    "\n",
    "`CPython is a Python Interpreter written in Python. Cython is a C extension of Python. Cython is really a different programming language, and is a superset of both C and Python`"
   ]
  },
  {
   "cell_type": "code",
   "execution_count": null,
   "metadata": {},
   "outputs": [],
   "source": [
    "import platform\n",
    "def show_platform_detail():\n",
    "    print (\"Python Implementation: %s\" % platform.python_implementation())\n",
    "    print (\"Machine: %s\" % platform.machine())\n",
    "    print (\"Uname: \", platform.uname())\n",
    "    print (\"Architecture:\", platform.architecture())\n",
    "    print (\"System: %s\" % platform.system())\n",
    "    print (\"Node: %s\" % platform.node())\n",
    "    print (\"Release: %s\" % platform.release())\n",
    "    print (\"Version: %s\" % platform.version())\n",
    "    print (\"Processor: %s\" % platform.processor())"
   ]
  },
  {
   "cell_type": "code",
   "execution_count": null,
   "metadata": {},
   "outputs": [],
   "source": [
    "show_platform_detail()"
   ]
  },
  {
   "cell_type": "markdown",
   "metadata": {},
   "source": [
    "### Built-in functions\n",
    "\n",
    "- The Python interpreter has a number of functions and types built into it that are always available.\n",
    "\n",
    "\n",
    "abs()\n",
    "\n",
    "dict(), help(), min(), id(), object(), sorted()\n",
    "\n",
    "enumerate(), bin(), eval(), int(), open(), str()\n",
    "\n",
    "bool(), isinstance(), sum()\n",
    "\n",
    "bytearray(), issubclass(), pow(), super()\n",
    "\n",
    "bytes(), float(), iter(), print(), tuple()\n",
    "\n",
    "format(), len(), type()\n",
    "\n",
    "list(), range()\n",
    "\n",
    "zip()\n",
    "\n",
    "hasattr(), max(), round()\t \n",
    "\n",
    "set()\t \n"
   ]
  },
  {
   "cell_type": "code",
   "execution_count": null,
   "metadata": {
    "scrolled": false
   },
   "outputs": [],
   "source": [
    "sorted([1,6,3,6,7,2,3,5])"
   ]
  },
  {
   "cell_type": "code",
   "execution_count": null,
   "metadata": {},
   "outputs": [],
   "source": [
    "hasattr(str, \"count\")"
   ]
  },
  {
   "cell_type": "code",
   "execution_count": null,
   "metadata": {},
   "outputs": [],
   "source": [
    "for i in range(5):\n",
    "    print (i)"
   ]
  },
  {
   "cell_type": "code",
   "execution_count": null,
   "metadata": {},
   "outputs": [],
   "source": [
    "sum([1,2])"
   ]
  },
  {
   "cell_type": "markdown",
   "metadata": {},
   "source": [
    "### Python Installation"
   ]
  },
  {
   "cell_type": "markdown",
   "metadata": {},
   "source": [
    "### Python Interpreter\n",
    "$ which python\n",
    "\n",
    "` /usr/local/bin/python3.6 `"
   ]
  },
  {
   "cell_type": "markdown",
   "metadata": {},
   "source": [
    "### Argument Passing (Scripts)"
   ]
  },
  {
   "cell_type": "code",
   "execution_count": null,
   "metadata": {},
   "outputs": [],
   "source": [
    "import sys\n",
    "sys.argv[0]"
   ]
  },
  {
   "cell_type": "markdown",
   "metadata": {},
   "source": [
    "### String [5]"
   ]
  },
  {
   "cell_type": "code",
   "execution_count": null,
   "metadata": {},
   "outputs": [],
   "source": [
    "'spam eggs'  # single quotes"
   ]
  },
  {
   "cell_type": "code",
   "execution_count": null,
   "metadata": {},
   "outputs": [],
   "source": [
    "'doesn\\'t'  # use \\' to escape the single quote..."
   ]
  },
  {
   "cell_type": "code",
   "execution_count": null,
   "metadata": {},
   "outputs": [],
   "source": [
    "\"doesn't\"  # ...or use double quotes instead"
   ]
  },
  {
   "cell_type": "code",
   "execution_count": null,
   "metadata": {},
   "outputs": [],
   "source": [
    "'\"Yes,\" he said.'"
   ]
  },
  {
   "cell_type": "code",
   "execution_count": null,
   "metadata": {},
   "outputs": [],
   "source": [
    "\"\\\"Yes,\\\" he said.\""
   ]
  },
  {
   "cell_type": "code",
   "execution_count": null,
   "metadata": {},
   "outputs": [],
   "source": [
    "'\"Isn\\'t,\" she said.'"
   ]
  },
  {
   "cell_type": "code",
   "execution_count": null,
   "metadata": {},
   "outputs": [],
   "source": [
    "print('C:\\some\\name')  # here \\n means newline!"
   ]
  },
  {
   "cell_type": "code",
   "execution_count": null,
   "metadata": {},
   "outputs": [],
   "source": [
    "# raw string\n",
    "print(r'C:\\some\\name')  # note the r before the quote\n",
    "# unicode\n",
    "print(u'C:\\some\\name')  # note the r before the quote"
   ]
  },
  {
   "cell_type": "code",
   "execution_count": null,
   "metadata": {},
   "outputs": [],
   "source": [
    "print(\"\"\"\\\n",
    "Usage: thingy [OPTIONS]\n",
    "     -h                        Display this usage message\n",
    "     -H hostname               Hostname to connect to\n",
    "\"\"\")"
   ]
  },
  {
   "cell_type": "code",
   "execution_count": null,
   "metadata": {},
   "outputs": [],
   "source": [
    "# Concatenation with + and *\n",
    "3 * 'un' + 'ium'"
   ]
  },
  {
   "cell_type": "code",
   "execution_count": null,
   "metadata": {},
   "outputs": [],
   "source": [
    "'AI Developers' + ' Boise'"
   ]
  },
  {
   "cell_type": "code",
   "execution_count": null,
   "metadata": {},
   "outputs": [],
   "source": [
    "\"AI Developers\" + \" Boise\""
   ]
  },
  {
   "cell_type": "markdown",
   "metadata": {},
   "source": [
    "- Strings can be indexed (subscripted), with the first character having index 0. There is no separate character type; a character is simply a string of size one"
   ]
  },
  {
   "cell_type": "code",
   "execution_count": null,
   "metadata": {},
   "outputs": [],
   "source": [
    "word = 'Python'\n",
    "print(\"word\", word)\n",
    "print(\"word[0]\", word[0])\n",
    "print(\"word[4]\", word[4])\n",
    "print(\"len(word)\", len(word))\n",
    "print(\"type(word)\", type(word))\n",
    "print(\"type(word[0])\", type(word[0]))"
   ]
  },
  {
   "cell_type": "markdown",
   "metadata": {},
   "source": [
    "- Slicing and Indexing"
   ]
  },
  {
   "cell_type": "raw",
   "metadata": {},
   "source": []
  },
  {
   "cell_type": "code",
   "execution_count": null,
   "metadata": {},
   "outputs": [],
   "source": [
    "word[0:2]"
   ]
  },
  {
   "cell_type": "code",
   "execution_count": null,
   "metadata": {},
   "outputs": [],
   "source": [
    "# indexing from last\n",
    "word[-1], word[-2]"
   ]
  },
  {
   "cell_type": "markdown",
   "metadata": {},
   "source": [
    "- Python strings cannot be changed — they are immutable. Therefore, assigning to an indexed position in the string results in an error."
   ]
  },
  {
   "cell_type": "code",
   "execution_count": null,
   "metadata": {},
   "outputs": [],
   "source": [
    "word[0]  = 'A'"
   ]
  },
  {
   "cell_type": "markdown",
   "metadata": {},
   "source": [
    "### List [5]"
   ]
  },
  {
   "cell_type": "code",
   "execution_count": null,
   "metadata": {},
   "outputs": [],
   "source": [
    "# dynamic typed\n",
    "ll = [2018, 5, 12, \"AI Developers, Boise\", \"AI Saturdays\"]\n",
    "ll"
   ]
  },
  {
   "cell_type": "code",
   "execution_count": null,
   "metadata": {},
   "outputs": [],
   "source": [
    "type(ll[2])"
   ]
  },
  {
   "cell_type": "code",
   "execution_count": null,
   "metadata": {},
   "outputs": [],
   "source": [
    "type(ll[3])"
   ]
  },
  {
   "cell_type": "code",
   "execution_count": null,
   "metadata": {},
   "outputs": [],
   "source": [
    "# assigning to an indexed position of list is allowed\n",
    "# - mutable data type\n",
    "ll[3] = 12\n",
    "print(ll)\n",
    "print(id(ll))"
   ]
  },
  {
   "cell_type": "code",
   "execution_count": null,
   "metadata": {},
   "outputs": [],
   "source": [
    "new_sliced_list = ll[-3:] # slicing returns a new list\n",
    "print(new_sliced_list)\n",
    "print(id(new_sliced_list))"
   ]
  },
  {
   "cell_type": "code",
   "execution_count": null,
   "metadata": {},
   "outputs": [],
   "source": [
    "ll[:]"
   ]
  },
  {
   "cell_type": "code",
   "execution_count": null,
   "metadata": {},
   "outputs": [],
   "source": [
    "# list concatenation"
   ]
  },
  {
   "cell_type": "code",
   "execution_count": null,
   "metadata": {},
   "outputs": [],
   "source": [
    "ll1 = [3,4,5]\n",
    "appended_list = ll1 + ll"
   ]
  },
  {
   "cell_type": "code",
   "execution_count": null,
   "metadata": {},
   "outputs": [],
   "source": [
    "appended_list"
   ]
  },
  {
   "cell_type": "code",
   "execution_count": null,
   "metadata": {},
   "outputs": [],
   "source": [
    "appended_list.append(15)\n",
    "appended_list"
   ]
  },
  {
   "cell_type": "code",
   "execution_count": null,
   "metadata": {},
   "outputs": [],
   "source": [
    "# add the whole list to another list\n",
    "list_to_be_extended = [\"list\", \"to\", \"be\", \"extended\"]\n",
    "appended_list.extend(list_to_be_extended)\n",
    "appended_list"
   ]
  },
  {
   "cell_type": "code",
   "execution_count": null,
   "metadata": {},
   "outputs": [],
   "source": [
    "id(appended_list)"
   ]
  },
  {
   "cell_type": "code",
   "execution_count": null,
   "metadata": {},
   "outputs": [],
   "source": [
    "# size of the list\n",
    "len(appended_list)"
   ]
  },
  {
   "cell_type": "markdown",
   "metadata": {},
   "source": [
    "## Simple Programming with Python"
   ]
  },
  {
   "cell_type": "code",
   "execution_count": null,
   "metadata": {},
   "outputs": [],
   "source": [
    "import time"
   ]
  },
  {
   "cell_type": "markdown",
   "metadata": {},
   "source": [
    "### Simple Function"
   ]
  },
  {
   "cell_type": "code",
   "execution_count": null,
   "metadata": {},
   "outputs": [],
   "source": [
    "def display_execution_time(start, end, label):\n",
    "    print(\"Execution time ({}): {}\".format(label, end-start))"
   ]
  },
  {
   "cell_type": "code",
   "execution_count": null,
   "metadata": {},
   "outputs": [],
   "source": [
    "# Fibonacci series: 1"
   ]
  },
  {
   "cell_type": "code",
   "execution_count": null,
   "metadata": {},
   "outputs": [],
   "source": [
    "start = time.time()\n",
    "\n",
    "a,b = 0, 1 # multiple assignment\n",
    "\n",
    "while b < 10: # WHILE loop\n",
    "    # print (b, end=\", \") # replaces default /n by \", \"\n",
    "    print (b) # replaces default /n by \", \"\n",
    "    \n",
    "    # expressions on the right-hand side are all evaluated\n",
    "    # first before any of the assignments take place.\n",
    "    a, b = b, a+b\n",
    "\n",
    "    end = time.time()\n",
    "\n",
    "display_execution_time(start, end, \"fibonacci while\")"
   ]
  },
  {
   "cell_type": "code",
   "execution_count": null,
   "metadata": {},
   "outputs": [],
   "source": [
    "# Fibonacci series: 2"
   ]
  },
  {
   "cell_type": "code",
   "execution_count": null,
   "metadata": {},
   "outputs": [],
   "source": [
    "def fib(n): # FUNCTION DEFINITION\n",
    "    \"display first n fibonacci series\" \n",
    "    if n <= 2: # IF condition\n",
    "        return 1 # RETURN statement\n",
    "    res = fib(n-1) + fib(n-2) # RECURSIVE FUNCTION CALL\n",
    "    return res # RETURN statement\n",
    "\n",
    "start = time.time()\n",
    "res_fib = fib(6) # FUNCTION call\n",
    "print (res_fib)\n",
    "end = time.time()\n",
    "display_execution_time(start, end, \"fibonacci recursion\")\n"
   ]
  },
  {
   "cell_type": "markdown",
   "metadata": {},
   "source": [
    "## Control Flow\n",
    "\n",
    "#### if-elif-else statements\n",
    "\n",
    "- There can be zero or more elif parts, and the else part is optional.\n",
    "- An if … elif … elif … sequence is a substitute for the switch or case statements found in other languages.\n"
   ]
  },
  {
   "cell_type": "code",
   "execution_count": null,
   "metadata": {},
   "outputs": [],
   "source": [
    "def if_else_example(n):\n",
    "    if type(n) is not int:\n",
    "        return \"not a number\"\n",
    "    if n < 0:\n",
    "        return \"less than zero\"\n",
    "    elif n == 0:\n",
    "        return \"equal to zero\"\n",
    "    else:\n",
    "        return \"greater than zero\""
   ]
  },
  {
   "cell_type": "code",
   "execution_count": null,
   "metadata": {},
   "outputs": [],
   "source": [
    "if_else_example(\"a\")"
   ]
  },
  {
   "cell_type": "markdown",
   "metadata": {},
   "source": [
    "#### for loops"
   ]
  },
  {
   "cell_type": "code",
   "execution_count": null,
   "metadata": {},
   "outputs": [],
   "source": [
    "words = ['cat', 'window', 'defenestrate']\n",
    "for w in words:\n",
    "    print (w, len(w))"
   ]
  },
  {
   "cell_type": "markdown",
   "metadata": {},
   "source": [
    "#### Use Case: If you need to manipulate a list and then add/remove elements in the same list"
   ]
  },
  {
   "cell_type": "code",
   "execution_count": null,
   "metadata": {},
   "outputs": [],
   "source": [
    "words = ['cat', 'window', 'defenestrate']\n",
    "for w in words[:]:  # Loop over a slice copy of the entire list.\n",
    "    if len(w) > 6:\n",
    "        words.insert(0, w)\n",
    "words"
   ]
  },
  {
   "cell_type": "markdown",
   "metadata": {},
   "source": [
    "#### range() Function"
   ]
  },
  {
   "cell_type": "code",
   "execution_count": null,
   "metadata": {},
   "outputs": [],
   "source": [
    "for i in range(5): # if only one argument, starts from 0, with interval of 1\n",
    "    print (i, end =\", \")\n",
    "print()\n",
    "\n",
    "for i in range(1,6): # starting is closed, ending is open\n",
    "    print (i, end =\", \")\n",
    "print()\n",
    "\n",
    "for i in range(1,11, 2): # specifying interval\n",
    "    print (i, end =\", \")\n",
    "print()"
   ]
  },
  {
   "cell_type": "markdown",
   "metadata": {},
   "source": [
    "#### iterate over indices of list"
   ]
  },
  {
   "cell_type": "code",
   "execution_count": null,
   "metadata": {},
   "outputs": [],
   "source": [
    "a = ['Mary', 'had', 'a', 'little', 'lamb']\n",
    "for i in range(len(a)):\n",
    "    print(i, a[i])"
   ]
  },
  {
   "cell_type": "markdown",
   "metadata": {
    "collapsed": true
   },
   "source": [
    "#### or use enumerate"
   ]
  },
  {
   "cell_type": "code",
   "execution_count": null,
   "metadata": {},
   "outputs": [],
   "source": [
    "for index, value in enumerate(a):\n",
    "    print (index, value)"
   ]
  },
  {
   "cell_type": "markdown",
   "metadata": {},
   "source": [
    "#### or use zip and enumerate to loop multiple list"
   ]
  },
  {
   "cell_type": "code",
   "execution_count": null,
   "metadata": {},
   "outputs": [],
   "source": [
    "b = [10,20,30,40,50]\n",
    "for a_i, b_i in zip(a,b):\n",
    "    print(a_i, b_i)"
   ]
  },
  {
   "cell_type": "markdown",
   "metadata": {},
   "source": [
    "#### Iterate in reverse"
   ]
  },
  {
   "cell_type": "code",
   "execution_count": null,
   "metadata": {},
   "outputs": [],
   "source": [
    "for i in reversed(range(1, 10, 2)):\n",
    "    print(i)"
   ]
  },
  {
   "cell_type": "markdown",
   "metadata": {},
   "source": [
    "#### iterate in sorted order"
   ]
  },
  {
   "cell_type": "code",
   "execution_count": null,
   "metadata": {},
   "outputs": [],
   "source": [
    "list_unordered = [3,4,37,2,1,8,552,6]\n",
    "for i in sorted(list_unordered):\n",
    "    print(i)"
   ]
  },
  {
   "cell_type": "markdown",
   "metadata": {},
   "source": [
    "#### break, continue and pass statements"
   ]
  },
  {
   "cell_type": "code",
   "execution_count": null,
   "metadata": {},
   "outputs": [],
   "source": [
    "for i in range(5):\n",
    "    if i == 3:\n",
    "        break\n",
    "    print (i)\n",
    "\n",
    "print()\n",
    "for i in range(5):\n",
    "    if i == 3:\n",
    "        continue\n",
    "    print(i)\n",
    "    \n",
    "# pass statement does nothing\n",
    "# generally used when a statement is required syntactically but\n",
    "# the program requires no action\n",
    "i = 0\n",
    "while i > 0:\n",
    "    pass"
   ]
  },
  {
   "cell_type": "markdown",
   "metadata": {},
   "source": [
    "### Defining Functions\n",
    "- function definition\n",
    "- default argument values\n",
    "- keyword arguments-"
   ]
  },
  {
   "cell_type": "code",
   "execution_count": null,
   "metadata": {},
   "outputs": [],
   "source": [
    "def f(a, L=[]): # optional arguments are assigned once i.e L\n",
    "    L.append(a)\n",
    "    return L\n",
    "\n",
    "print(f(1))\n",
    "print(f(2))\n",
    "print(f(3))"
   ]
  },
  {
   "cell_type": "markdown",
   "metadata": {},
   "source": [
    "#### Types of arguments"
   ]
  },
  {
   "cell_type": "code",
   "execution_count": null,
   "metadata": {},
   "outputs": [],
   "source": [
    "def cheeseshop(kind, *arguments, **keywords):\n",
    "    print(\"-- Do you have any\", kind, \"?\")\n",
    "    print(\"-- I'm sorry, we're all out of\", kind)\n",
    "    for arg in arguments:\n",
    "        print(arg)\n",
    "    print(\"-\" * 40)\n",
    "    for kw in keywords:\n",
    "        print(kw, \":\", keywords[kw])"
   ]
  },
  {
   "cell_type": "code",
   "execution_count": null,
   "metadata": {},
   "outputs": [],
   "source": [
    "cheeseshop(\"Limburger\", \"It's very runny, sir.\",\n",
    "           \"It's really very, VERY runny, sir.\",\n",
    "           shopkeeper=\"Michael Palin\",\n",
    "           client=\"John Cleese\",\n",
    "           sketch=\"Cheese Shop Sketch\")"
   ]
  },
  {
   "cell_type": "markdown",
   "metadata": {},
   "source": [
    "### Comparing sequence/list types\n",
    "- Sequence objects may be compared to other objects with the same sequence type. \n",
    "- The comparison uses lexicographical ordering"
   ]
  },
  {
   "cell_type": "markdown",
   "metadata": {},
   "source": [
    "# Continue from Python3 documentation\n",
    "https://docs.python.org/3/tutorial/index.html\n",
    "\n",
    "-  Data Structures\n",
    "-  Modules\n",
    "-  Packages\n",
    "-  Errors and Exceptions\n",
    "-  Classes\n",
    "-  Virtual Environment\n",
    "\n",
    "... etc."
   ]
  }
 ],
 "metadata": {
  "kernelspec": {
   "display_name": "Python 3",
   "language": "python",
   "name": "python3"
  },
  "language_info": {
   "codemirror_mode": {
    "name": "ipython",
    "version": 3
   },
   "file_extension": ".py",
   "mimetype": "text/x-python",
   "name": "python",
   "nbconvert_exporter": "python",
   "pygments_lexer": "ipython3",
   "version": "3.6.5"
  }
 },
 "nbformat": 4,
 "nbformat_minor": 1
}
