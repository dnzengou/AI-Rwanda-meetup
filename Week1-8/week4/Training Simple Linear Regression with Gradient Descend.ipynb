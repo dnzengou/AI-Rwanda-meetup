{
 "cells": [
  {
   "cell_type": "markdown",
   "metadata": {},
   "source": [
    "# Training a simple linear regression using gradient descend\n",
    "## (naive implementation)"
   ]
  },
  {
   "cell_type": "markdown",
   "metadata": {},
   "source": [
    "### Prepared by:\n",
    "- Ashish Sharma <accssharma@gmail.com>\n",
    "- AI Saturdays, Boise\n",
    "- AI Developers, Boise"
   ]
  },
  {
   "cell_type": "markdown",
   "metadata": {},
   "source": [
    "### Necessary Imports"
   ]
  },
  {
   "cell_type": "code",
   "execution_count": 26,
   "metadata": {},
   "outputs": [],
   "source": [
    "import numpy as np\n",
    "import matplotlib.pyplot as plt\n",
    "from  mpl_toolkits.mplot3d import Axes3D\n",
    "import matplotlib as mpl\n",
    "mpl.rcParams['legend.fontsize'] = 10\n",
    "import pandas as pd"
   ]
  },
  {
   "cell_type": "markdown",
   "metadata": {},
   "source": [
    "### Create a simple dataset of X and y conforming a simple mathematical relationship\n",
    "#### (true data: y = 1 + 2*X)"
   ]
  },
  {
   "cell_type": "code",
   "execution_count": 27,
   "metadata": {},
   "outputs": [],
   "source": [
    "num_train_samples = 500\n",
    "# generate a sample of input data \n",
    "X = np.linspace(1,10, 500).reshape(num_train_samples, 1)\n",
    "# take a ground truth of output values using a true function \n",
    "y = 1 + 2*X"
   ]
  },
  {
   "cell_type": "code",
   "execution_count": 28,
   "metadata": {},
   "outputs": [
    {
     "data": {
      "text/plain": [
       "array([[1.        ],\n",
       "       [1.01803607],\n",
       "       [1.03607214],\n",
       "       [1.05410822],\n",
       "       [1.07214429]])"
      ]
     },
     "execution_count": 28,
     "metadata": {},
     "output_type": "execute_result"
    }
   ],
   "source": [
    "X.shape\n",
    "X[:5,:]"
   ]
  },
  {
   "cell_type": "code",
   "execution_count": 29,
   "metadata": {},
   "outputs": [
    {
     "data": {
      "text/plain": [
       "array([[3.        ],\n",
       "       [3.03607214],\n",
       "       [3.07214429],\n",
       "       [3.10821643],\n",
       "       [3.14428858]])"
      ]
     },
     "execution_count": 29,
     "metadata": {},
     "output_type": "execute_result"
    }
   ],
   "source": [
    "y.shape\n",
    "y[:5,:]"
   ]
  },
  {
   "cell_type": "markdown",
   "metadata": {},
   "source": [
    "# Simple Linear Regression Hypothesis"
   ]
  },
  {
   "cell_type": "markdown",
   "metadata": {},
   "source": [
    "Since we are working on a single variate regression problem, to focus how to use gradient descend, let us hypothesize that a simple linear equation with two parameters will approximate the true relationship between the input and output variables!\n",
    "\n",
    "Note: Code implementations below aren't vectorized and is using inefficient `for` loops. This is, however, intended to make it easier for the absolute beginners to understand what's going on. "
   ]
  },
  {
   "cell_type": "code",
   "execution_count": 30,
   "metadata": {},
   "outputs": [],
   "source": [
    "def hypothesis(x1, theta0, theta1):\n",
    "    \"\"\"hypothesis of our simple linear regression\"\"\"\n",
    "    h_X = theta0 + x1 * theta1\n",
    "    return h_X"
   ]
  },
  {
   "cell_type": "markdown",
   "metadata": {},
   "source": [
    "## Cost function - single example\n",
    "- squared error"
   ]
  },
  {
   "cell_type": "code",
   "execution_count": 35,
   "metadata": {},
   "outputs": [],
   "source": [
    "def cost_function(x_i, true_y, t0, t1):\n",
    "    \"\"\"Compute cost function of a single training example\"\"\"\n",
    "    try:\n",
    "        predicted_y = hypothesis(x_i, t0, t1) \n",
    "    except RuntimeError:\n",
    "        print(\"error in cost_function\")\n",
    "    return np.square(predicted_y - true_y)"
   ]
  },
  {
   "cell_type": "markdown",
   "metadata": {},
   "source": [
    "## Loss function (all training examples)\n",
    "- mean squared error"
   ]
  },
  {
   "cell_type": "code",
   "execution_count": 36,
   "metadata": {},
   "outputs": [],
   "source": [
    "def loss(theta0, theta1):\n",
    "    \"\"\"Compute loss for all the training examples (mean accross all examples)\"\"\"\n",
    "    total_loss = []\n",
    "    for ind, x_i in enumerate(X):\n",
    "        y_i = y[ind] \n",
    "        cost_i = cost_function(x_i[0], y_i[0], theta0, theta1)\n",
    "        total_loss.append(cost_i)\n",
    "    return np.mean(np.array(total_loss))"
   ]
  },
  {
   "cell_type": "markdown",
   "metadata": {},
   "source": [
    "- we know that the loss of prediction of our training data when using theta0=1 and theta1=2 must be zero, as these are the true parameters."
   ]
  },
  {
   "cell_type": "code",
   "execution_count": 37,
   "metadata": {},
   "outputs": [
    {
     "data": {
      "text/plain": [
       "0.0"
      ]
     },
     "execution_count": 37,
     "metadata": {},
     "output_type": "execute_result"
    }
   ],
   "source": [
    "# we expect the loss to be zero\n",
    "loss(1,2)"
   ]
  },
  {
   "cell_type": "markdown",
   "metadata": {},
   "source": [
    "## Gradient Descend\n",
    "\n",
    "### Compute Gradients (mathematically, compute partial derivates)\n",
    "\n",
    "- Lets compute the partial derivative of the loss function w.r.t the two parameters and compute the average of gradients accross all the training dataset"
   ]
  },
  {
   "cell_type": "code",
   "execution_count": 38,
   "metadata": {},
   "outputs": [],
   "source": [
    "def gradients(theta0, theta1):\n",
    "    \"\"\"Compute gradients of the loss function.\n",
    "    \n",
    "    Averaged on all the training examples.\n",
    "    \"\"\"\n",
    "    grad0 = []\n",
    "    grad1 = []\n",
    "    for ind, x_i in enumerate(X):\n",
    "        diff_i_0 = theta0 + theta1 * x_i[0] - y[ind][0]\n",
    "        diff_i_1 = (theta0 + theta1 * x_i[0] - y[ind][0]) * x_i[0]\n",
    "        grad0.append(diff_i_0)\n",
    "        grad1.append(diff_i_1)\n",
    "    return 2*np.mean(np.array(grad0)), 2*np.mean(np.array(grad1))"
   ]
  },
  {
   "cell_type": "markdown",
   "metadata": {},
   "source": [
    "### Iterative run a gradient descend algorithm to get the optimal values of the parameters\n",
    "- Iteratively, let's update our parameters based on the gardients"
   ]
  },
  {
   "cell_type": "code",
   "execution_count": 39,
   "metadata": {},
   "outputs": [],
   "source": [
    "def train(lr=0.01, num_iter=100, t0_est = 0.5, t1_est = 0.5):\n",
    "    t0_values = []\n",
    "    t1_values = []\n",
    "    loss_values = []\n",
    "    t0_values.append(t0_est)\n",
    "    t1_values.append(t1_est)\n",
    "    lss = loss(t0_est, t1_est)\n",
    "    loss_values.append(lss)\n",
    "    \n",
    "    # iterate and update parameters based on the gradients\n",
    "    for i in range(num_iter):\n",
    "        grad0, grad1 = gradients(t0_est, t1_est)\n",
    "        # print (grad0, grad1)\n",
    "        t0_est = t0_est - grad0 * lr\n",
    "        t1_est = t1_est - grad1 * lr\n",
    "        t0_values.append(t0_est)\n",
    "        t1_values.append(t1_est)\n",
    "        lss = loss(t0_est, t1_est)\n",
    "        loss_values.append(lss)\n",
    "    \n",
    "    return np.array(t0_values), np.array(t1_values), np.array(loss_values)"
   ]
  },
  {
   "cell_type": "markdown",
   "metadata": {},
   "source": [
    "Here, play around with num_iter and learning rate to see their effect in the training process (try lr=0.005, num_iter=4000). The process to come up with the best values of number of iteration, learning rate to obtain the most optimal values of the model parameters theta0, theta1 is known as `hyper-parameter optimization` or `hyper-parameter tuning`. Here, theta0 and theta1 are the model PARAMETERS, whereas, the factors like number of iterations, learning rate, etc are known as HYPER-PARAMETERS. \n"
   ]
  },
  {
   "cell_type": "code",
   "execution_count": 40,
   "metadata": {
    "scrolled": false
   },
   "outputs": [
    {
     "data": {
      "text/plain": [
       "(0.999791966726549, 2.0000310514323862)"
      ]
     },
     "execution_count": 40,
     "metadata": {},
     "output_type": "execute_result"
    }
   ],
   "source": [
    "xx, yy, lss_vals = train(num_iter=4000, lr=0.005)\n",
    "# let's get the most recently updated values of theta0 and theta1 (optimal values)\n",
    "final_theta_0 = xx[-1]\n",
    "final_theta_1 = yy[-1]\n",
    "final_theta_0, final_theta_1"
   ]
  },
  {
   "cell_type": "markdown",
   "metadata": {},
   "source": [
    "- Notice that, as you increase the number of iterations with apropriate learning rate, we get more accurate estimation of our parameters"
   ]
  },
  {
   "cell_type": "code",
   "execution_count": 41,
   "metadata": {},
   "outputs": [
    {
     "data": {
      "image/png": "[encoded data removed]",
      "text/plain": [
       "<Figure size 432x288 with 1 Axes>"
      ]
     },
     "metadata": {},
     "output_type": "display_data"
    }
   ],
   "source": [
    "fig = plt.figure()\n",
    "ax = fig.gca(projection='3d')\n",
    "ax.scatter(xx, yy, lss_vals)\n",
    "ax.set_xlabel('theta1')\n",
    "ax.set_ylabel('theta2')\n",
    "ax.set_zlabel('Function value')\n",
    "plt.show()"
   ]
  },
  {
   "cell_type": "markdown",
   "metadata": {},
   "source": [
    "# Prediction\n",
    "Now that we have obtained the optimal values of our model parameters, we can use these parameters to make predictions on the unseen values of X (whose y values are unknown)."
   ]
  },
  {
   "cell_type": "code",
   "execution_count": 42,
   "metadata": {},
   "outputs": [],
   "source": [
    "def predict(x_pred):\n",
    "    predicted_y = hypothesis(x_pred, final_theta_0, final_theta_1)\n",
    "    return predicted_y"
   ]
  },
  {
   "cell_type": "code",
   "execution_count": 43,
   "metadata": {},
   "outputs": [
    {
     "data": {
      "text/plain": [
       "2.9998230181589354"
      ]
     },
     "execution_count": 43,
     "metadata": {},
     "output_type": "execute_result"
    }
   ],
   "source": [
    "# for an input x=1, we expect the output to be 3\n",
    "predict(1)"
   ]
  },
  {
   "cell_type": "markdown",
   "metadata": {},
   "source": [
    "Thank you!"
   ]
  }
 ],
 "metadata": {
  "kernelspec": {
   "display_name": "Python 3",
   "language": "python",
   "name": "python3"
  },
  "language_info": {
   "codemirror_mode": {
    "name": "ipython",
    "version": 3
   },
   "file_extension": ".py",
   "mimetype": "text/x-python",
   "name": "python",
   "nbconvert_exporter": "python",
   "pygments_lexer": "ipython3",
   "version": "3.6.5"
  }
 },
 "nbformat": 4,
 "nbformat_minor": 2
}
